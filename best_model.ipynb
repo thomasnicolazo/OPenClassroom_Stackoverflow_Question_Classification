{
 "cells": [
  {
   "cell_type": "code",
   "execution_count": 1,
   "id": "c0af6ea2-d8ed-4e1d-b9b4-4f05d652f1c2",
   "metadata": {},
   "outputs": [],
   "source": [
    "import pandas as pd\n",
    "import numpy as np\n",
    "import os"
   ]
  },
  {
   "cell_type": "code",
   "execution_count": 2,
   "id": "15f3a14b-09f8-4bee-af93-b030e4a4d8a6",
   "metadata": {},
   "outputs": [],
   "source": [
    "path = 'D:/projet5/results/'\n"
   ]
  },
  {
   "cell_type": "code",
   "execution_count": 3,
   "id": "39a622c0-79f6-4ad0-8c73-b4546692a703",
   "metadata": {},
   "outputs": [
    {
     "name": "stdout",
     "output_type": "stream",
     "text": [
      "median :{'name': 'USElogistic', 'value': 0.3368235}, mean :{'name': 'USElogistic', 'value': 0.3451189}\n"
     ]
    }
   ],
   "source": [
    "\n",
    "#pd.read_csv(path + 'bert_logistic_reduced_without_empty', sep=\"\\t\\t\",header=None,names=['name_tags','F1_score','precision','recall'],engine='python')\n",
    "mean={}\n",
    "median={}\n",
    "for file in [ i for i in os.listdir(path) if i.endswith('empty')]:\n",
    "    nameFileArray = file.split('_')\n",
    "    name = nameFileArray[0]+nameFileArray[1]\n",
    "    pandaData = pd.read_csv(path + file, sep=\"\\t\\t\",header=None,names=['name_tags','F1_score','precision','recall'],engine='python')\n",
    "    if len(mean.keys())==0 or len(median.keys())==0:\n",
    "        mean['name']=name\n",
    "        mean['value'] = np.mean(pandaData['F1_score'])\n",
    "        median['name']=name\n",
    "        median['value'] = np.median(pandaData['F1_score'])\n",
    "    else:\n",
    "        valueMedian =np.median(pandaData['F1_score'])\n",
    "        valueMean =np.mean(pandaData['F1_score'])\n",
    "        if valueMean > mean['value']:\n",
    "            mean['value'] = valueMean\n",
    "            mean['name'] = name\n",
    "        if valueMedian > median['value']:\n",
    "            median['value'] = valueMedian\n",
    "            median['name'] = name\n",
    "print(f'median :{median}, mean :{mean}')"
   ]
  },
  {
   "cell_type": "markdown",
   "id": "113db225-d671-4eb6-b666-c1a56be14b36",
   "metadata": {},
   "source": [
    "The best model is the logisitc regression with the universal sentence encoder."
   ]
  },
  {
   "cell_type": "code",
   "execution_count": null,
   "id": "7c06fb5b-0a96-4498-929e-2dc2f85b7787",
   "metadata": {},
   "outputs": [],
   "source": []
  }
 ],
 "metadata": {
  "kernelspec": {
   "display_name": "Python 3 (ipykernel)",
   "language": "python",
   "name": "python3"
  },
  "language_info": {
   "codemirror_mode": {
    "name": "ipython",
    "version": 3
   },
   "file_extension": ".py",
   "mimetype": "text/x-python",
   "name": "python",
   "nbconvert_exporter": "python",
   "pygments_lexer": "ipython3",
   "version": "3.10.8"
  }
 },
 "nbformat": 4,
 "nbformat_minor": 5
}
