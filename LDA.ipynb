{
 "cells": [
  {
   "cell_type": "code",
   "execution_count": 7,
   "id": "36d2c939-69ff-4062-9459-438cda3a373a",
   "metadata": {},
   "outputs": [],
   "source": [
    "from sklearn.decomposition import LatentDirichletAllocation\n",
    "from sklearn.feature_extraction.text import CountVectorizer\n",
    "import pickle\n",
    "import pandas "
   ]
  },
  {
   "cell_type": "code",
   "execution_count": 8,
   "id": "d049ce6c-9fc1-4277-9c31-8bd39f25a4e3",
   "metadata": {},
   "outputs": [],
   "source": [
    "path = '/home/thomas/Documents/openclassroom/projet5/OpenClassroom_Stackoverflow_Question_Classification/'\n",
    "path_res = path +'results/'"
   ]
  },
  {
   "cell_type": "code",
   "execution_count": 9,
   "id": "a8d18968-8388-43bb-8fdb-a612c4228fb1",
   "metadata": {},
   "outputs": [],
   "source": [
    "with open(path + 'cleanDataprepSmote3.pickle','rb') as f:\n",
    "    data = pickle.load(f)"
   ]
  },
  {
   "cell_type": "code",
   "execution_count": 10,
   "id": "3206a970-e62d-49fc-85bc-326998480fbb",
   "metadata": {},
   "outputs": [],
   "source": [
    "nb_topics = 40"
   ]
  },
  {
   "cell_type": "code",
   "execution_count": 11,
   "id": "7c6558cd-2754-487d-982b-8059977c6977",
   "metadata": {},
   "outputs": [
    {
     "data": {
      "text/html": [
       "<style>#sk-container-id-2 {color: black;background-color: white;}#sk-container-id-2 pre{padding: 0;}#sk-container-id-2 div.sk-toggleable {background-color: white;}#sk-container-id-2 label.sk-toggleable__label {cursor: pointer;display: block;width: 100%;margin-bottom: 0;padding: 0.3em;box-sizing: border-box;text-align: center;}#sk-container-id-2 label.sk-toggleable__label-arrow:before {content: \"▸\";float: left;margin-right: 0.25em;color: #696969;}#sk-container-id-2 label.sk-toggleable__label-arrow:hover:before {color: black;}#sk-container-id-2 div.sk-estimator:hover label.sk-toggleable__label-arrow:before {color: black;}#sk-container-id-2 div.sk-toggleable__content {max-height: 0;max-width: 0;overflow: hidden;text-align: left;background-color: #f0f8ff;}#sk-container-id-2 div.sk-toggleable__content pre {margin: 0.2em;color: black;border-radius: 0.25em;background-color: #f0f8ff;}#sk-container-id-2 input.sk-toggleable__control:checked~div.sk-toggleable__content {max-height: 200px;max-width: 100%;overflow: auto;}#sk-container-id-2 input.sk-toggleable__control:checked~label.sk-toggleable__label-arrow:before {content: \"▾\";}#sk-container-id-2 div.sk-estimator input.sk-toggleable__control:checked~label.sk-toggleable__label {background-color: #d4ebff;}#sk-container-id-2 div.sk-label input.sk-toggleable__control:checked~label.sk-toggleable__label {background-color: #d4ebff;}#sk-container-id-2 input.sk-hidden--visually {border: 0;clip: rect(1px 1px 1px 1px);clip: rect(1px, 1px, 1px, 1px);height: 1px;margin: -1px;overflow: hidden;padding: 0;position: absolute;width: 1px;}#sk-container-id-2 div.sk-estimator {font-family: monospace;background-color: #f0f8ff;border: 1px dotted black;border-radius: 0.25em;box-sizing: border-box;margin-bottom: 0.5em;}#sk-container-id-2 div.sk-estimator:hover {background-color: #d4ebff;}#sk-container-id-2 div.sk-parallel-item::after {content: \"\";width: 100%;border-bottom: 1px solid gray;flex-grow: 1;}#sk-container-id-2 div.sk-label:hover label.sk-toggleable__label {background-color: #d4ebff;}#sk-container-id-2 div.sk-serial::before {content: \"\";position: absolute;border-left: 1px solid gray;box-sizing: border-box;top: 0;bottom: 0;left: 50%;z-index: 0;}#sk-container-id-2 div.sk-serial {display: flex;flex-direction: column;align-items: center;background-color: white;padding-right: 0.2em;padding-left: 0.2em;position: relative;}#sk-container-id-2 div.sk-item {position: relative;z-index: 1;}#sk-container-id-2 div.sk-parallel {display: flex;align-items: stretch;justify-content: center;background-color: white;position: relative;}#sk-container-id-2 div.sk-item::before, #sk-container-id-2 div.sk-parallel-item::before {content: \"\";position: absolute;border-left: 1px solid gray;box-sizing: border-box;top: 0;bottom: 0;left: 50%;z-index: -1;}#sk-container-id-2 div.sk-parallel-item {display: flex;flex-direction: column;z-index: 1;position: relative;background-color: white;}#sk-container-id-2 div.sk-parallel-item:first-child::after {align-self: flex-end;width: 50%;}#sk-container-id-2 div.sk-parallel-item:last-child::after {align-self: flex-start;width: 50%;}#sk-container-id-2 div.sk-parallel-item:only-child::after {width: 0;}#sk-container-id-2 div.sk-dashed-wrapped {border: 1px dashed gray;margin: 0 0.4em 0.5em 0.4em;box-sizing: border-box;padding-bottom: 0.4em;background-color: white;}#sk-container-id-2 div.sk-label label {font-family: monospace;font-weight: bold;display: inline-block;line-height: 1.2em;}#sk-container-id-2 div.sk-label-container {text-align: center;}#sk-container-id-2 div.sk-container {/* jupyter's `normalize.less` sets `[hidden] { display: none; }` but bootstrap.min.css set `[hidden] { display: none !important; }` so we also need the `!important` here to be able to override the default hidden behavior on the sphinx rendered scikit-learn.org. See: https://github.com/scikit-learn/scikit-learn/issues/21755 */display: inline-block !important;position: relative;}#sk-container-id-2 div.sk-text-repr-fallback {display: none;}</style><div id=\"sk-container-id-2\" class=\"sk-top-container\"><div class=\"sk-text-repr-fallback\"><pre>LatentDirichletAllocation(learning_method=&#x27;online&#x27;, learning_offset=50.0,\n",
       "                          max_iter=6, n_components=40, random_state=0)</pre><b>In a Jupyter environment, please rerun this cell to show the HTML representation or trust the notebook. <br />On GitHub, the HTML representation is unable to render, please try loading this page with nbviewer.org.</b></div><div class=\"sk-container\" hidden><div class=\"sk-item\"><div class=\"sk-estimator sk-toggleable\"><input class=\"sk-toggleable__control sk-hidden--visually\" id=\"sk-estimator-id-2\" type=\"checkbox\" checked><label for=\"sk-estimator-id-2\" class=\"sk-toggleable__label sk-toggleable__label-arrow\">LatentDirichletAllocation</label><div class=\"sk-toggleable__content\"><pre>LatentDirichletAllocation(learning_method=&#x27;online&#x27;, learning_offset=50.0,\n",
       "                          max_iter=6, n_components=40, random_state=0)</pre></div></div></div></div></div>"
      ],
      "text/plain": [
       "LatentDirichletAllocation(learning_method='online', learning_offset=50.0,\n",
       "                          max_iter=6, n_components=40, random_state=0)"
      ]
     },
     "execution_count": 11,
     "metadata": {},
     "output_type": "execute_result"
    }
   ],
   "source": [
    "data = data['tokens_lemma'].apply(lambda x: ' '.join(x).strip() )\n",
    "tf_vectorizer = CountVectorizer(max_df=0.95,min_df=2,max_features=2000)\n",
    "tf = tf_vectorizer.fit_transform(data)\n",
    "# Créer le modèle LDA\n",
    "lda = LatentDirichletAllocation(\n",
    "        n_components=nb_topics, \n",
    "        max_iter=6, \n",
    "        learning_method='online', \n",
    "        learning_offset=50.,\n",
    "        random_state=0)\n",
    "\n",
    "# Fitter sur les données\n",
    "lda.fit(tf)"
   ]
  },
  {
   "cell_type": "code",
   "execution_count": 12,
   "id": "4bd1fd83-d638-4c20-a55b-e19a2fc96ae7",
   "metadata": {},
   "outputs": [
    {
     "name": "stdout",
     "output_type": "stream",
     "text": [
      "Topic 0:\n",
      "pass parameter argument method parse\n",
      "Topic 1:\n",
      "state react component export render\n",
      "Topic 2:\n",
      "not can match pattern expression\n",
      "Topic 3:\n",
      "image self event img handler\n",
      "Topic 4:\n",
      "name list object property attribute\n",
      "Topic 5:\n",
      "index row column frame df\n",
      "Topic 6:\n",
      "html page javascript script document\n",
      "Topic 7:\n",
      "file log path character console\n",
      "Topic 8:\n",
      "width button height style layout\n",
      "Topic 9:\n",
      "table database select query sql\n",
      "Topic 10:\n",
      "number view result controller order\n",
      "Topic 11:\n",
      "datum data process byte read\n",
      "Topic 12:\n",
      "git task push change repository\n",
      "Topic 13:\n",
      "color random scale red arr\n",
      "Topic 14:\n",
      "function test php call return\n",
      "Topic 15:\n",
      "value var item key true\n",
      "Topic 16:\n",
      "java framework xml org eclipse\n",
      "Topic 17:\n",
      "node template hello double float\n",
      "Topic 18:\n",
      "net web asp system application\n",
      "Topic 19:\n",
      "http request com server url\n",
      "Topic 20:\n",
      "difference two address replace word\n",
      "Topic 21:\n",
      "int type variable integer static\n",
      "Topic 22:\n",
      "understand language good someone example\n",
      "Topic 23:\n",
      "string std include convert return\n",
      "Topic 24:\n",
      "cell background border section feel\n",
      "Topic 25:\n",
      "thread lib ruby local rail\n",
      "Topic 26:\n",
      "foo main delete char child\n",
      "Topic 27:\n",
      "json memory size fast performance\n",
      "Topic 28:\n",
      "app android device com product\n",
      "Topic 29:\n",
      "mysql access cache home root\n",
      "Topic 30:\n",
      "array date time format element\n",
      "Topic 31:\n",
      "command script run linux tool\n",
      "Topic 32:\n",
      "application window program start run\n",
      "Topic 33:\n",
      "need know question work find\n",
      "Topic 34:\n",
      "user form model input li\n",
      "Topic 35:\n",
      "project file option build directory\n",
      "Topic 36:\n",
      "div text class js function\n",
      "Topic 37:\n",
      "class public new method void\n",
      "Topic 38:\n",
      "python import print module exception\n",
      "Topic 39:\n",
      "error try message version install\n"
     ]
    }
   ],
   "source": [
    "def display_topics(model, feature_names, no_top_words):\n",
    "    for topic_idx, topic in enumerate(model.components_):\n",
    "        print(\"Topic {}:\".format(topic_idx))\n",
    "        print(\" \".join([feature_names[i] for i in topic.argsort()[:-no_top_words - 1:-1]]))\n",
    "\n",
    "no_top_words = 5\n",
    "display_topics(lda, tf_vectorizer.get_feature_names(), no_top_words)\n"
   ]
  },
  {
   "cell_type": "code",
   "execution_count": 13,
   "id": "2b15cbd2-11fa-4a5f-9dab-c2086d0ecb93",
   "metadata": {},
   "outputs": [
    {
     "name": "stdout",
     "output_type": "stream",
     "text": [
      "['black', 'white']\n"
     ]
    }
   ],
   "source": [
    "colors = ['red', 'green', 'blue', 'orange','purple','white','black']\n",
    "print(colors[:-5:-1])"
   ]
  },
  {
   "cell_type": "code",
   "execution_count": null,
   "id": "0d0d89e7-8f15-4cf7-940c-0d916af6baac",
   "metadata": {},
   "outputs": [],
   "source": []
  }
 ],
 "metadata": {
  "kernelspec": {
   "display_name": "Python 3 (ipykernel)",
   "language": "python",
   "name": "python3"
  },
  "language_info": {
   "codemirror_mode": {
    "name": "ipython",
    "version": 3
   },
   "file_extension": ".py",
   "mimetype": "text/x-python",
   "name": "python",
   "nbconvert_exporter": "python",
   "pygments_lexer": "ipython3",
   "version": "3.10.8"
  }
 },
 "nbformat": 4,
 "nbformat_minor": 5
}
