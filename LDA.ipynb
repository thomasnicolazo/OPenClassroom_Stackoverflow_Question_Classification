{
 "cells": [
  {
   "cell_type": "code",
   "execution_count": 1,
   "id": "36d2c939-69ff-4062-9459-438cda3a373a",
   "metadata": {},
   "outputs": [],
   "source": [
    "from sklearn.decomposition import LatentDirichletAllocation\n",
    "from sklearn.feature_extraction.text import CountVectorizer\n",
    "import pickle\n",
    "import pandas "
   ]
  },
  {
   "cell_type": "code",
   "execution_count": 2,
   "id": "d049ce6c-9fc1-4277-9c31-8bd39f25a4e3",
   "metadata": {},
   "outputs": [],
   "source": [
    "path = '/home/thomas/Documents/openclassroom/projet5/OpenClassroom_Stackoverflow_Question_Classification/'\n",
    "path_res = path +'results/'"
   ]
  },
  {
   "cell_type": "code",
   "execution_count": 3,
   "id": "a8d18968-8388-43bb-8fdb-a612c4228fb1",
   "metadata": {},
   "outputs": [],
   "source": [
    "with open(path + 'cleanDataprepSmote3.pickle','rb') as f:\n",
    "    data = pickle.load(f)"
   ]
  },
  {
   "cell_type": "code",
   "execution_count": 4,
   "id": "3206a970-e62d-49fc-85bc-326998480fbb",
   "metadata": {},
   "outputs": [],
   "source": [
    "nb_topics = 40"
   ]
  },
  {
   "cell_type": "code",
   "execution_count": 5,
   "id": "7c6558cd-2754-487d-982b-8059977c6977",
   "metadata": {},
   "outputs": [
    {
     "data": {
      "text/html": [
       "<style>#sk-container-id-1 {color: black;background-color: white;}#sk-container-id-1 pre{padding: 0;}#sk-container-id-1 div.sk-toggleable {background-color: white;}#sk-container-id-1 label.sk-toggleable__label {cursor: pointer;display: block;width: 100%;margin-bottom: 0;padding: 0.3em;box-sizing: border-box;text-align: center;}#sk-container-id-1 label.sk-toggleable__label-arrow:before {content: \"▸\";float: left;margin-right: 0.25em;color: #696969;}#sk-container-id-1 label.sk-toggleable__label-arrow:hover:before {color: black;}#sk-container-id-1 div.sk-estimator:hover label.sk-toggleable__label-arrow:before {color: black;}#sk-container-id-1 div.sk-toggleable__content {max-height: 0;max-width: 0;overflow: hidden;text-align: left;background-color: #f0f8ff;}#sk-container-id-1 div.sk-toggleable__content pre {margin: 0.2em;color: black;border-radius: 0.25em;background-color: #f0f8ff;}#sk-container-id-1 input.sk-toggleable__control:checked~div.sk-toggleable__content {max-height: 200px;max-width: 100%;overflow: auto;}#sk-container-id-1 input.sk-toggleable__control:checked~label.sk-toggleable__label-arrow:before {content: \"▾\";}#sk-container-id-1 div.sk-estimator input.sk-toggleable__control:checked~label.sk-toggleable__label {background-color: #d4ebff;}#sk-container-id-1 div.sk-label input.sk-toggleable__control:checked~label.sk-toggleable__label {background-color: #d4ebff;}#sk-container-id-1 input.sk-hidden--visually {border: 0;clip: rect(1px 1px 1px 1px);clip: rect(1px, 1px, 1px, 1px);height: 1px;margin: -1px;overflow: hidden;padding: 0;position: absolute;width: 1px;}#sk-container-id-1 div.sk-estimator {font-family: monospace;background-color: #f0f8ff;border: 1px dotted black;border-radius: 0.25em;box-sizing: border-box;margin-bottom: 0.5em;}#sk-container-id-1 div.sk-estimator:hover {background-color: #d4ebff;}#sk-container-id-1 div.sk-parallel-item::after {content: \"\";width: 100%;border-bottom: 1px solid gray;flex-grow: 1;}#sk-container-id-1 div.sk-label:hover label.sk-toggleable__label {background-color: #d4ebff;}#sk-container-id-1 div.sk-serial::before {content: \"\";position: absolute;border-left: 1px solid gray;box-sizing: border-box;top: 0;bottom: 0;left: 50%;z-index: 0;}#sk-container-id-1 div.sk-serial {display: flex;flex-direction: column;align-items: center;background-color: white;padding-right: 0.2em;padding-left: 0.2em;position: relative;}#sk-container-id-1 div.sk-item {position: relative;z-index: 1;}#sk-container-id-1 div.sk-parallel {display: flex;align-items: stretch;justify-content: center;background-color: white;position: relative;}#sk-container-id-1 div.sk-item::before, #sk-container-id-1 div.sk-parallel-item::before {content: \"\";position: absolute;border-left: 1px solid gray;box-sizing: border-box;top: 0;bottom: 0;left: 50%;z-index: -1;}#sk-container-id-1 div.sk-parallel-item {display: flex;flex-direction: column;z-index: 1;position: relative;background-color: white;}#sk-container-id-1 div.sk-parallel-item:first-child::after {align-self: flex-end;width: 50%;}#sk-container-id-1 div.sk-parallel-item:last-child::after {align-self: flex-start;width: 50%;}#sk-container-id-1 div.sk-parallel-item:only-child::after {width: 0;}#sk-container-id-1 div.sk-dashed-wrapped {border: 1px dashed gray;margin: 0 0.4em 0.5em 0.4em;box-sizing: border-box;padding-bottom: 0.4em;background-color: white;}#sk-container-id-1 div.sk-label label {font-family: monospace;font-weight: bold;display: inline-block;line-height: 1.2em;}#sk-container-id-1 div.sk-label-container {text-align: center;}#sk-container-id-1 div.sk-container {/* jupyter's `normalize.less` sets `[hidden] { display: none; }` but bootstrap.min.css set `[hidden] { display: none !important; }` so we also need the `!important` here to be able to override the default hidden behavior on the sphinx rendered scikit-learn.org. See: https://github.com/scikit-learn/scikit-learn/issues/21755 */display: inline-block !important;position: relative;}#sk-container-id-1 div.sk-text-repr-fallback {display: none;}</style><div id=\"sk-container-id-1\" class=\"sk-top-container\"><div class=\"sk-text-repr-fallback\"><pre>LatentDirichletAllocation(learning_method=&#x27;online&#x27;, learning_offset=50.0,\n",
       "                          max_iter=6, n_components=40, random_state=0)</pre><b>In a Jupyter environment, please rerun this cell to show the HTML representation or trust the notebook. <br />On GitHub, the HTML representation is unable to render, please try loading this page with nbviewer.org.</b></div><div class=\"sk-container\" hidden><div class=\"sk-item\"><div class=\"sk-estimator sk-toggleable\"><input class=\"sk-toggleable__control sk-hidden--visually\" id=\"sk-estimator-id-1\" type=\"checkbox\" checked><label for=\"sk-estimator-id-1\" class=\"sk-toggleable__label sk-toggleable__label-arrow\">LatentDirichletAllocation</label><div class=\"sk-toggleable__content\"><pre>LatentDirichletAllocation(learning_method=&#x27;online&#x27;, learning_offset=50.0,\n",
       "                          max_iter=6, n_components=40, random_state=0)</pre></div></div></div></div></div>"
      ],
      "text/plain": [
       "LatentDirichletAllocation(learning_method='online', learning_offset=50.0,\n",
       "                          max_iter=6, n_components=40, random_state=0)"
      ]
     },
     "execution_count": 5,
     "metadata": {},
     "output_type": "execute_result"
    }
   ],
   "source": [
    "data = data['tokens_lemma'].apply(lambda x: ' '.join(x).strip() )\n",
    "tf_vectorizer = CountVectorizer(max_df=0.95,min_df=5,max_features=2000)\n",
    "tf = tf_vectorizer.fit_transform(data)\n",
    "# Créer le modèle LDA\n",
    "lda = LatentDirichletAllocation(\n",
    "        n_components=nb_topics, \n",
    "        max_iter=6, \n",
    "        learning_method='online', \n",
    "        learning_offset=50.,\n",
    "        random_state=0)\n",
    "\n",
    "# Fitter sur les données\n",
    "lda.fit(tf)"
   ]
  },
  {
   "cell_type": "code",
   "execution_count": 6,
   "id": "4bd1fd83-d638-4c20-a55b-e19a2fc96ae7",
   "metadata": {},
   "outputs": [
    {
     "name": "stdout",
     "output_type": "stream",
     "text": [
      "Topic 0:\n",
      "command run line script output bash not iphone environment linux shell can program os echo\n",
      "Topic 1:\n",
      "library include message compile link person warning validation rule warn validate symbol swift storage sign\n",
      "Topic 2:\n",
      "value type method string variable parameter set pass example address dictionary val need field argument\n",
      "Topic 3:\n",
      "self element event span init handler inside nil yes animation trigger alloc animate selector click\n",
      "Topic 4:\n",
      "work find question seem need know something could answer see problem write look well make\n",
      "Topic 5:\n",
      "list table select row column item query index group name count join datum df follow\n",
      "Topic 6:\n",
      "html page button javascript script text document jquery content click tag css title link body\n",
      "Topic 7:\n",
      "http com server url service client api www org https connect connection google location send\n",
      "Topic 8:\n",
      "class public view method void new private static controller return interface call create extend override\n",
      "Topic 9:\n",
      "div js class attribute scope block catch ui ng angular function module bootstrap modal controller\n",
      "Topic 10:\n",
      "performance two fast sort multiple large second first comment time source algorithm many different end\n",
      "Topic 11:\n",
      "user datum data byte send save buffer stream read application receive account encode need information\n",
      "Topic 12:\n",
      "git push change repository github commit branch master status pull remote merge repo work head\n",
      "Topic 13:\n",
      "thread window process run time start device child application second lock call app main wait\n",
      "Topic 14:\n",
      "replace sample implementation someone explain tree objective apple please cursor understand functionality regard implement documentation\n",
      "Topic 15:\n",
      "object name property xml entity session context param set class spring utf encode create type\n",
      "Topic 16:\n",
      "map cell center section icon align tableview photo arr uitableview working helper timer view flex\n",
      "Topic 17:\n",
      "true return false check match expression regular else bool boolean condition contain statement wrapper equal\n",
      "Topic 18:\n",
      "python language pattern provide possible support queue etc use question dynamic design duplicate different programming\n",
      "Topic 19:\n",
      "image frame img png size scale jpg uiview draw canvas plot max transform np numpy\n",
      "Topic 20:\n",
      "android model layout app parent activity item com intent phone widget menu view permission support\n",
      "Topic 21:\n",
      "good task know people well start feature application learn practice look resource really make develop\n",
      "Topic 22:\n",
      "memory difference ruby std rail share gem vector copy rb boost sequence heap explanation pair\n",
      "Topic 23:\n",
      "text width height style background color display label scroll xcode top font view position size\n",
      "Topic 24:\n",
      "function json php call end return method load javascript ajax callback something result async cookie\n",
      "Topic 25:\n",
      "number order loop size random limit high amount entry total bit sum card input low\n",
      "Topic 26:\n",
      "int foo bar char main double integer return compiler pointer function include void declare define\n",
      "Topic 27:\n",
      "node template const hello err hash npm func world dispatch unknown constant t1 nodejs snippet\n",
      "Topic 28:\n",
      "test control product unit testing wpf level sub run mock write refer method inner employee\n",
      "Topic 29:\n",
      "mysql access result cache query root speed disable role fetch driver price john mm dd\n",
      "Topic 30:\n",
      "array point state float assume regex let job example say give math mean description represent\n",
      "Topic 31:\n",
      "date search time django datetime day side year socket site find information address month google\n",
      "Topic 32:\n",
      "var form log input console react post component password name app username login submit action\n",
      "Topic 33:\n",
      "li studio visual break next case space remove move tab ul switch leave stack change\n",
      "Topic 34:\n",
      "database key store sql option db create table insert delete field server update item exist\n",
      "Topic 35:\n",
      "file path module directory package lib error python py install folder try local usr import\n",
      "Topic 36:\n",
      "java request td response tr header th lang util abc method content uri source api\n",
      "Topic 37:\n",
      "string error new system exception null try throw return follow message str not get can\n",
      "Topic 38:\n",
      "print import length format character string email def word filter output range return python obj\n",
      "Topic 39:\n",
      "app net application project version web build asp framework mvc debug core plugin update eclipse\n"
     ]
    },
    {
     "name": "stderr",
     "output_type": "stream",
     "text": [
      "/home/thomas/.local/lib/python3.10/site-packages/sklearn/utils/deprecation.py:87: FutureWarning: Function get_feature_names is deprecated; get_feature_names is deprecated in 1.0 and will be removed in 1.2. Please use get_feature_names_out instead.\n",
      "  warnings.warn(msg, category=FutureWarning)\n"
     ]
    }
   ],
   "source": [
    "def display_topics(model, feature_names, no_top_words):\n",
    "    for topic_idx, topic in enumerate(model.components_):\n",
    "        print(\"Topic {}:\".format(topic_idx))\n",
    "        print(\" \".join([feature_names[i] for i in topic.argsort()[:-no_top_words - 1:-1]]))\n",
    "\n",
    "no_top_words = 15\n",
    "display_topics(lda, tf_vectorizer.get_feature_names(), no_top_words)\n"
   ]
  },
  {
   "cell_type": "code",
   "execution_count": 7,
   "id": "2b15cbd2-11fa-4a5f-9dab-c2086d0ecb93",
   "metadata": {},
   "outputs": [
    {
     "name": "stdout",
     "output_type": "stream",
     "text": [
      "['black', 'white', 'purple', 'orange']\n"
     ]
    }
   ],
   "source": [
    "colors = ['red', 'green', 'blue', 'orange','purple','white','black']\n",
    "print(colors[:-5:-1])"
   ]
  },
  {
   "cell_type": "code",
   "execution_count": null,
   "id": "0d0d89e7-8f15-4cf7-940c-0d916af6baac",
   "metadata": {},
   "outputs": [],
   "source": []
  }
 ],
 "metadata": {
  "kernelspec": {
   "display_name": "Python 3 (ipykernel)",
   "language": "python",
   "name": "python3"
  },
  "language_info": {
   "codemirror_mode": {
    "name": "ipython",
    "version": 3
   },
   "file_extension": ".py",
   "mimetype": "text/x-python",
   "name": "python",
   "nbconvert_exporter": "python",
   "pygments_lexer": "ipython3",
   "version": "3.10.8"
  }
 },
 "nbformat": 4,
 "nbformat_minor": 5
}
