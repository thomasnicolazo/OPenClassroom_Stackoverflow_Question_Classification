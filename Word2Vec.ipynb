{
 "cells": [
  {
   "cell_type": "code",
   "execution_count": null,
   "id": "efaf8509-6ea5-4926-81c5-7b7fe9746ff4",
   "metadata": {},
   "outputs": [],
   "source": []
  },
  {
   "cell_type": "code",
   "execution_count": 1,
   "id": "c6bf9e39-fae1-47de-94a6-d40ceaefcfc0",
   "metadata": {},
   "outputs": [
    {
     "name": "stderr",
     "output_type": "stream",
     "text": [
      "[nltk_data] Downloading package stopwords to /home/thomas/nltk_data...\n",
      "[nltk_data]   Package stopwords is already up-to-date!\n"
     ]
    }
   ],
   "source": [
    "import os\n",
    "import time\n",
    "import re\n",
    "import numpy as np \n",
    "import matplotlib as mpl\n",
    "import matplotlib.pyplot as plt\n",
    "import seaborn as sns\n",
    "import pandas as pd\n",
    "import nltk\n",
    "import spacy\n",
    "import pickle\n",
    "nltk.download('stopwords')\n",
    "import unidecode\n",
    "from sklearn.utils import shuffle\n",
    "import sklearn.metrics as met\n",
    "from sklearn.preprocessing import StandardScaler\n",
    "from imblearn.over_sampling import SMOTE\n",
    "from sklearn.metrics import roc_curve, auc\n",
    "from sklearn.model_selection import train_test_split\n",
    "from sklearn.multiclass import OneVsRestClassifier\n",
    "from sklearn.pipeline import Pipeline\n",
    "from sklearn.model_selection import GridSearchCV\n",
    "from sklearn.preprocessing import MultiLabelBinarizer\n",
    "from sklearn.feature_extraction.text import CountVectorizer, TfidfVectorizer\n",
    "from sklearn.linear_model import LogisticRegression\n",
    "from sklearn.svm import SVC\n",
    "from sklearn.ensemble import RandomForestClassifier as RF\n",
    "import gensim"
   ]
  },
  {
   "cell_type": "code",
   "execution_count": 2,
   "id": "740cbe2a-a862-4f61-a32f-cb5aa768f950",
   "metadata": {},
   "outputs": [
    {
     "data": {
      "text/html": [
       "<style>.container { width:95% !important; }</style>"
      ],
      "text/plain": [
       "<IPython.core.display.HTML object>"
      ]
     },
     "metadata": {},
     "output_type": "display_data"
    }
   ],
   "source": [
    "from IPython.display import display,HTML\n",
    "display(HTML(\"<style>.container { width:95% !important; }</style>\"))\n",
    "pd.set_option(\"display.max_columns\", 100)\n",
    "pd.set_option(\"display.max_rows\", 200)\n",
    "pd.set_option(\"display.max_colwidth\",200)"
   ]
  },
  {
   "cell_type": "code",
   "execution_count": 3,
   "id": "4de8c652-bca1-4413-a794-a0431db7fefd",
   "metadata": {},
   "outputs": [
    {
     "data": {
      "application/javascript": [
       "IPython.OutputArea.auto_scroll_threshold = 9999;\n"
      ],
      "text/plain": [
       "<IPython.core.display.Javascript object>"
      ]
     },
     "metadata": {},
     "output_type": "display_data"
    }
   ],
   "source": [
    "%%javascript\n",
    "IPython.OutputArea.auto_scroll_threshold = 9999;"
   ]
  },
  {
   "cell_type": "code",
   "execution_count": 4,
   "id": "79289c37-8154-4daf-a7da-f8be9ab9d05a",
   "metadata": {},
   "outputs": [],
   "source": [
    "startTime = time.time()"
   ]
  },
  {
   "cell_type": "markdown",
   "id": "950f8656-6181-494b-a55d-c7fab121959d",
   "metadata": {},
   "source": [
    "# Data"
   ]
  },
  {
   "cell_type": "code",
   "execution_count": 5,
   "id": "02944ba3-b32b-4fb4-bf72-8db2b5a15630",
   "metadata": {},
   "outputs": [],
   "source": [
    "path = '/home/thomas/Documents/openclassroom/projet5/'\n",
    "path_res = path +'results/'"
   ]
  },
  {
   "cell_type": "raw",
   "id": "c5fe7b29-a2d7-4d4b-88a0-d4e2afbce6b2",
   "metadata": {},
   "source": [
    "with open(path + 'cleanData.pickle','rb') as f:\n",
    "    data = pickle.load(f)"
   ]
  },
  {
   "cell_type": "code",
   "execution_count": 6,
   "id": "d7a2e979-7fb0-44d0-9af7-fe5673cd2df3",
   "metadata": {},
   "outputs": [],
   "source": [
    "with open(path + 'cleanDataprepSmote3.pickle','rb') as f:\n",
    "    data = pickle.load(f)"
   ]
  },
  {
   "cell_type": "code",
   "execution_count": 7,
   "id": "86b8609f-85e2-4010-a5f2-f4444634fc60",
   "metadata": {},
   "outputs": [
    {
     "data": {
      "text/plain": [
       "(51904, 20)"
      ]
     },
     "execution_count": 7,
     "metadata": {},
     "output_type": "execute_result"
    }
   ],
   "source": [
    "data.shape"
   ]
  },
  {
   "cell_type": "code",
   "execution_count": 8,
   "id": "3762404a-e790-4359-84c5-977db15f5756",
   "metadata": {},
   "outputs": [
    {
     "data": {
      "text/plain": [
       "Title                        object\n",
       "Body                         object\n",
       "Tags                         object\n",
       "text                         object\n",
       "nb_char                       int64\n",
       "tokens                       object\n",
       "tokens_title                 object\n",
       "nb_tokens                     int64\n",
       "tokens_unique                object\n",
       "nb_tokens_unique              int64\n",
       "tokens_WSW                   object\n",
       "tokens_title_WSW             object\n",
       "nb_tokens_WSW                 int64\n",
       "tokens_lemma                 object\n",
       "len_tokens_lemma              int64\n",
       "Tags_list                    object\n",
       "len _Tags_list                int64\n",
       "filtered_tags                object\n",
       "filtered_tags_reduced        object\n",
       "len_filtered_tags_reduced     int64\n",
       "dtype: object"
      ]
     },
     "execution_count": 8,
     "metadata": {},
     "output_type": "execute_result"
    }
   ],
   "source": [
    "data.dtypes"
   ]
  },
  {
   "cell_type": "code",
   "execution_count": 9,
   "id": "0fc5eb01-46a5-4650-98c0-c77cecee0791",
   "metadata": {},
   "outputs": [
    {
     "data": {
      "text/html": [
       "<div>\n",
       "<style scoped>\n",
       "    .dataframe tbody tr th:only-of-type {\n",
       "        vertical-align: middle;\n",
       "    }\n",
       "\n",
       "    .dataframe tbody tr th {\n",
       "        vertical-align: top;\n",
       "    }\n",
       "\n",
       "    .dataframe thead th {\n",
       "        text-align: right;\n",
       "    }\n",
       "</style>\n",
       "<table border=\"1\" class=\"dataframe\">\n",
       "  <thead>\n",
       "    <tr style=\"text-align: right;\">\n",
       "      <th></th>\n",
       "      <th>Title</th>\n",
       "      <th>Body</th>\n",
       "      <th>Tags</th>\n",
       "      <th>text</th>\n",
       "      <th>nb_char</th>\n",
       "      <th>tokens</th>\n",
       "      <th>tokens_title</th>\n",
       "      <th>nb_tokens</th>\n",
       "      <th>tokens_unique</th>\n",
       "      <th>nb_tokens_unique</th>\n",
       "      <th>tokens_WSW</th>\n",
       "      <th>tokens_title_WSW</th>\n",
       "      <th>nb_tokens_WSW</th>\n",
       "      <th>tokens_lemma</th>\n",
       "      <th>len_tokens_lemma</th>\n",
       "      <th>Tags_list</th>\n",
       "      <th>len _Tags_list</th>\n",
       "      <th>filtered_tags</th>\n",
       "      <th>filtered_tags_reduced</th>\n",
       "      <th>len_filtered_tags_reduced</th>\n",
       "    </tr>\n",
       "  </thead>\n",
       "  <tbody>\n",
       "    <tr>\n",
       "      <th>0</th>\n",
       "      <td>transpose/unzip function (inverse of zip)?</td>\n",
       "      <td>&lt;p&gt;I have a list of 2-item tuples and I'd like to convert them to 2 lists where the first contains the first item in each tuple and the second list holds the second item.&lt;/p&gt;\\n\\n&lt;p&gt;&lt;strong&gt;For exa...</td>\n",
       "      <td>&lt;python&gt;&lt;list&gt;&lt;matrix&gt;&lt;transpose&gt;</td>\n",
       "      <td>i have a list of 2-item tuples and i'd like to convert them to 2 lists where the first contains the first item in each tuple and the second list holds the second item.\\nfor example:\\noriginal = [(...</td>\n",
       "      <td>350</td>\n",
       "      <td>[i, have, a, list, of, 2, item, tuples, and, i, d, like, to, convert, them, to, 2, lists, where, the, first, contains, the, first, item, in, each, tuple, and, the, second, list, holds, the, second...</td>\n",
       "      <td>[transpose, unzip, function, inverse, of, zip]</td>\n",
       "      <td>70</td>\n",
       "      <td>(have, d, list, and, result, to, lists, c, convert, second, example, 2, for, original, 4, holds, want, builtin, #, there, item, them, that, tuples, contains, where, first, in, function, does, like...</td>\n",
       "      <td>42</td>\n",
       "      <td>[list, item, tuples, like, convert, lists, first, contains, first, item, tuple, second, list, holds, second, item, example, original, b, c, #, want, become, result, b, c, builtin, function]</td>\n",
       "      <td>[transpose, unzip, function, inverse, zip]</td>\n",
       "      <td>28</td>\n",
       "      <td>[list, item, tuple, like, convert, list, first, contain, first, item, tuple, second, list, hold, second, item, example, original, b, c, #, want, become, result, b, c, builtin, function]</td>\n",
       "      <td>28</td>\n",
       "      <td>[list, transpose, matrix, python]</td>\n",
       "      <td>4</td>\n",
       "      <td>[list, python]</td>\n",
       "      <td>tag0</td>\n",
       "      <td>1</td>\n",
       "    </tr>\n",
       "    <tr>\n",
       "      <th>1</th>\n",
       "      <td>detecting audio silence in wav files using c#</td>\n",
       "      <td>&lt;p&gt;I'm tasked with building a .NET client app to detect silence in a WAV files.&lt;/p&gt;\\n\\n&lt;p&gt;Is this possible with the built-in Windows APIs? Or alternately, any good libraries out there to help with...</td>\n",
       "      <td>&lt;c#&gt;&lt;.net&gt;&lt;audio&gt;</td>\n",
       "      <td>i'm tasked with building a .net client app to detect silence in a wav files.\\nis this possible with the built-in windows apis? or alternately, any good libraries out there to help with this?\\n</td>\n",
       "      <td>190</td>\n",
       "      <td>[i, m, tasked, with, building, a, net, client, app, to, detect, silence, in, a, wav, files, is, this, possible, with, the, built, in, windows, apis, or, alternately, any, good, libraries, out, the...</td>\n",
       "      <td>[detecting, audio, silence, in, wav, files, using, c#]</td>\n",
       "      <td>36</td>\n",
       "      <td>(good, tasked, silence, to, windows, app, files, this, help, alternately, any, there, is, wav, built, detect, m, in, building, possible, libraries, or, apis, out, with, a, the, i, net, client)</td>\n",
       "      <td>30</td>\n",
       "      <td>[tasked, building, net, client, app, detect, silence, wav, files, possible, built, windows, apis, alternately, good, libraries, help]</td>\n",
       "      <td>[detecting, audio, silence, wav, files, using, c#]</td>\n",
       "      <td>17</td>\n",
       "      <td>[task, build, net, client, app, detect, silence, wav, file, possible, build, window, apis, alternately, good, library, help]</td>\n",
       "      <td>17</td>\n",
       "      <td>[c#, audio, .net]</td>\n",
       "      <td>3</td>\n",
       "      <td>[c#, .net]</td>\n",
       "      <td>tag1</td>\n",
       "      <td>1</td>\n",
       "    </tr>\n",
       "    <tr>\n",
       "      <th>2</th>\n",
       "      <td>how to request a random row in sql?</td>\n",
       "      <td>&lt;p&gt;How can I request a random row (or as close to truly random as is possible) in pure SQL?&lt;/p&gt;\\n</td>\n",
       "      <td>&lt;sql&gt;&lt;random&gt;</td>\n",
       "      <td>how can i request a random row (or as close to truly random as is possible) in pure sql?\\n</td>\n",
       "      <td>89</td>\n",
       "      <td>[how, can, i, request, a, random, row, or, as, close, to, truly, random, as, is, possible, in, pure, sql]</td>\n",
       "      <td>[how, to, request, a, random, row, in, sql]</td>\n",
       "      <td>19</td>\n",
       "      <td>(a, row, how, i, sql, in, to, close, can, truly, request, possible, is, or, random, pure, as)</td>\n",
       "      <td>17</td>\n",
       "      <td>[request, random, row, close, truly, random, possible, pure, sql]</td>\n",
       "      <td>[request, random, row, sql]</td>\n",
       "      <td>9</td>\n",
       "      <td>[request, random, row, close, truly, random, possible, pure, sql]</td>\n",
       "      <td>9</td>\n",
       "      <td>[random, sql]</td>\n",
       "      <td>2</td>\n",
       "      <td>[sql]</td>\n",
       "      <td>tag108</td>\n",
       "      <td>1</td>\n",
       "    </tr>\n",
       "    <tr>\n",
       "      <th>4</th>\n",
       "      <td>detecting current iphone input language</td>\n",
       "      <td>&lt;p&gt;Does anybody knows, can I get the current input language and/or keyboard layout in iPhone application? Can I also get a notification when input language was changed?&lt;/p&gt;\\n</td>\n",
       "      <td>&lt;iphone&gt;&lt;keyboard&gt;</td>\n",
       "      <td>does anybody knows, can i get the current input language and/or keyboard layout in iphone application? can i also get a notification when input language was changed?\\n</td>\n",
       "      <td>166</td>\n",
       "      <td>[does, anybody, knows, can, i, get, the, current, input, language, and, or, keyboard, layout, in, iphone, application, can, i, also, get, a, notification, when, input, language, was, changed]</td>\n",
       "      <td>[detecting, current, iphone, input, language]</td>\n",
       "      <td>28</td>\n",
       "      <td>(current, get, layout, and, can, when, was, application, language, in, keyboard, notification, does, or, iphone, changed, anybody, a, the, knows, i, also, input)</td>\n",
       "      <td>23</td>\n",
       "      <td>[anybody, knows, get, current, input, language, keyboard, layout, iphone, application, also, get, notification, input, language, changed]</td>\n",
       "      <td>[detecting, current, iphone, input, language]</td>\n",
       "      <td>16</td>\n",
       "      <td>[anybody, know, get, current, input, language, keyboard, layout, iphone, application, also, get, notification, input, language, change]</td>\n",
       "      <td>16</td>\n",
       "      <td>[keyboard, iphone]</td>\n",
       "      <td>2</td>\n",
       "      <td>[iphone]</td>\n",
       "      <td>tag11</td>\n",
       "      <td>1</td>\n",
       "    </tr>\n",
       "    <tr>\n",
       "      <th>6</th>\n",
       "      <td>how can i use homebrew to install both python 2 and 3 on mac?</td>\n",
       "      <td>&lt;p&gt;I need to be able to switch back and forth between Python 2 and 3. How do I do that using Homebrew as I don't want to mess with path and get into trouble.\\nRight now I have 2.7 installed throug...</td>\n",
       "      <td>&lt;python&gt;&lt;homebrew&gt;</td>\n",
       "      <td>i need to be able to switch back and forth between python 2 and 3. how do i do that using homebrew as i don't want to mess with path and get into trouble.\\nright now i have 2.7 installed through h...</td>\n",
       "      <td>204</td>\n",
       "      <td>[i, need, to, be, able, to, switch, back, and, forth, between, python, 2, and, 3, how, do, i, do, that, using, homebrew, as, i, don, t, want, to, mess, with, path, and, get, into, trouble, right, ...</td>\n",
       "      <td>[how, can, i, use, homebrew, to, install, both, python, 2, and, 3, on, mac]</td>\n",
       "      <td>44</td>\n",
       "      <td>(have, get, and, using, through, to, don, path, switch, be, do, 2, want, need, python, t, that, trouble, homebrew, forth, 7, between, mess, with, back, how, i, 3, able, installed, into, now, right...</td>\n",
       "      <td>34</td>\n",
       "      <td>[need, able, switch, back, forth, python, using, homebrew, want, mess, path, get, trouble, right, installed, homebrew]</td>\n",
       "      <td>[use, homebrew, install, python, mac]</td>\n",
       "      <td>16</td>\n",
       "      <td>[need, able, switch, back, forth, python, use, homebrew, want, mess, path, get, trouble, right, instal, homebrew]</td>\n",
       "      <td>16</td>\n",
       "      <td>[homebrew, python]</td>\n",
       "      <td>2</td>\n",
       "      <td>[python]</td>\n",
       "      <td>tag0</td>\n",
       "      <td>1</td>\n",
       "    </tr>\n",
       "  </tbody>\n",
       "</table>\n",
       "</div>"
      ],
      "text/plain": [
       "                                                           Title  \\\n",
       "0                     transpose/unzip function (inverse of zip)?   \n",
       "1                  detecting audio silence in wav files using c#   \n",
       "2                            how to request a random row in sql?   \n",
       "4                        detecting current iphone input language   \n",
       "6  how can i use homebrew to install both python 2 and 3 on mac?   \n",
       "\n",
       "                                                                                                                                                                                                      Body  \\\n",
       "0  <p>I have a list of 2-item tuples and I'd like to convert them to 2 lists where the first contains the first item in each tuple and the second list holds the second item.</p>\\n\\n<p><strong>For exa...   \n",
       "1  <p>I'm tasked with building a .NET client app to detect silence in a WAV files.</p>\\n\\n<p>Is this possible with the built-in Windows APIs? Or alternately, any good libraries out there to help with...   \n",
       "2                                                                                                        <p>How can I request a random row (or as close to truly random as is possible) in pure SQL?</p>\\n   \n",
       "4                           <p>Does anybody knows, can I get the current input language and/or keyboard layout in iPhone application? Can I also get a notification when input language was changed?</p>\\n   \n",
       "6  <p>I need to be able to switch back and forth between Python 2 and 3. How do I do that using Homebrew as I don't want to mess with path and get into trouble.\\nRight now I have 2.7 installed throug...   \n",
       "\n",
       "                                Tags  \\\n",
       "0  <python><list><matrix><transpose>   \n",
       "1                  <c#><.net><audio>   \n",
       "2                      <sql><random>   \n",
       "4                 <iphone><keyboard>   \n",
       "6                 <python><homebrew>   \n",
       "\n",
       "                                                                                                                                                                                                      text  \\\n",
       "0  i have a list of 2-item tuples and i'd like to convert them to 2 lists where the first contains the first item in each tuple and the second list holds the second item.\\nfor example:\\noriginal = [(...   \n",
       "1         i'm tasked with building a .net client app to detect silence in a wav files.\\nis this possible with the built-in windows apis? or alternately, any good libraries out there to help with this?\\n   \n",
       "2                                                                                                               how can i request a random row (or as close to truly random as is possible) in pure sql?\\n   \n",
       "4                                  does anybody knows, can i get the current input language and/or keyboard layout in iphone application? can i also get a notification when input language was changed?\\n   \n",
       "6  i need to be able to switch back and forth between python 2 and 3. how do i do that using homebrew as i don't want to mess with path and get into trouble.\\nright now i have 2.7 installed through h...   \n",
       "\n",
       "   nb_char  \\\n",
       "0      350   \n",
       "1      190   \n",
       "2       89   \n",
       "4      166   \n",
       "6      204   \n",
       "\n",
       "                                                                                                                                                                                                    tokens  \\\n",
       "0  [i, have, a, list, of, 2, item, tuples, and, i, d, like, to, convert, them, to, 2, lists, where, the, first, contains, the, first, item, in, each, tuple, and, the, second, list, holds, the, second...   \n",
       "1  [i, m, tasked, with, building, a, net, client, app, to, detect, silence, in, a, wav, files, is, this, possible, with, the, built, in, windows, apis, or, alternately, any, good, libraries, out, the...   \n",
       "2                                                                                                [how, can, i, request, a, random, row, or, as, close, to, truly, random, as, is, possible, in, pure, sql]   \n",
       "4          [does, anybody, knows, can, i, get, the, current, input, language, and, or, keyboard, layout, in, iphone, application, can, i, also, get, a, notification, when, input, language, was, changed]   \n",
       "6  [i, need, to, be, able, to, switch, back, and, forth, between, python, 2, and, 3, how, do, i, do, that, using, homebrew, as, i, don, t, want, to, mess, with, path, and, get, into, trouble, right, ...   \n",
       "\n",
       "                                                                  tokens_title  \\\n",
       "0                               [transpose, unzip, function, inverse, of, zip]   \n",
       "1                       [detecting, audio, silence, in, wav, files, using, c#]   \n",
       "2                                  [how, to, request, a, random, row, in, sql]   \n",
       "4                                [detecting, current, iphone, input, language]   \n",
       "6  [how, can, i, use, homebrew, to, install, both, python, 2, and, 3, on, mac]   \n",
       "\n",
       "   nb_tokens  \\\n",
       "0         70   \n",
       "1         36   \n",
       "2         19   \n",
       "4         28   \n",
       "6         44   \n",
       "\n",
       "                                                                                                                                                                                             tokens_unique  \\\n",
       "0  (have, d, list, and, result, to, lists, c, convert, second, example, 2, for, original, 4, holds, want, builtin, #, there, item, them, that, tuples, contains, where, first, in, function, does, like...   \n",
       "1         (good, tasked, silence, to, windows, app, files, this, help, alternately, any, there, is, wav, built, detect, m, in, building, possible, libraries, or, apis, out, with, a, the, i, net, client)   \n",
       "2                                                                                                            (a, row, how, i, sql, in, to, close, can, truly, request, possible, is, or, random, pure, as)   \n",
       "4                                        (current, get, layout, and, can, when, was, application, language, in, keyboard, notification, does, or, iphone, changed, anybody, a, the, knows, i, also, input)   \n",
       "6  (have, get, and, using, through, to, don, path, switch, be, do, 2, want, need, python, t, that, trouble, homebrew, forth, 7, between, mess, with, back, how, i, 3, able, installed, into, now, right...   \n",
       "\n",
       "   nb_tokens_unique  \\\n",
       "0                42   \n",
       "1                30   \n",
       "2                17   \n",
       "4                23   \n",
       "6                34   \n",
       "\n",
       "                                                                                                                                                                                      tokens_WSW  \\\n",
       "0  [list, item, tuples, like, convert, lists, first, contains, first, item, tuple, second, list, holds, second, item, example, original, b, c, #, want, become, result, b, c, builtin, function]   \n",
       "1                                                          [tasked, building, net, client, app, detect, silence, wav, files, possible, built, windows, apis, alternately, good, libraries, help]   \n",
       "2                                                                                                                              [request, random, row, close, truly, random, possible, pure, sql]   \n",
       "4                                                      [anybody, knows, get, current, input, language, keyboard, layout, iphone, application, also, get, notification, input, language, changed]   \n",
       "6                                                                         [need, able, switch, back, forth, python, using, homebrew, want, mess, path, get, trouble, right, installed, homebrew]   \n",
       "\n",
       "                                     tokens_title_WSW  nb_tokens_WSW  \\\n",
       "0          [transpose, unzip, function, inverse, zip]             28   \n",
       "1  [detecting, audio, silence, wav, files, using, c#]             17   \n",
       "2                         [request, random, row, sql]              9   \n",
       "4       [detecting, current, iphone, input, language]             16   \n",
       "6               [use, homebrew, install, python, mac]             16   \n",
       "\n",
       "                                                                                                                                                                                tokens_lemma  \\\n",
       "0  [list, item, tuple, like, convert, list, first, contain, first, item, tuple, second, list, hold, second, item, example, original, b, c, #, want, become, result, b, c, builtin, function]   \n",
       "1                                                               [task, build, net, client, app, detect, silence, wav, file, possible, build, window, apis, alternately, good, library, help]   \n",
       "2                                                                                                                          [request, random, row, close, truly, random, possible, pure, sql]   \n",
       "4                                                    [anybody, know, get, current, input, language, keyboard, layout, iphone, application, also, get, notification, input, language, change]   \n",
       "6                                                                          [need, able, switch, back, forth, python, use, homebrew, want, mess, path, get, trouble, right, instal, homebrew]   \n",
       "\n",
       "   len_tokens_lemma                          Tags_list  len _Tags_list  \\\n",
       "0                28  [list, transpose, matrix, python]               4   \n",
       "1                17                  [c#, audio, .net]               3   \n",
       "2                 9                      [random, sql]               2   \n",
       "4                16                 [keyboard, iphone]               2   \n",
       "6                16                 [homebrew, python]               2   \n",
       "\n",
       "    filtered_tags filtered_tags_reduced  len_filtered_tags_reduced  \n",
       "0  [list, python]                  tag0                          1  \n",
       "1      [c#, .net]                  tag1                          1  \n",
       "2           [sql]                tag108                          1  \n",
       "4        [iphone]                 tag11                          1  \n",
       "6        [python]                  tag0                          1  "
      ]
     },
     "execution_count": 9,
     "metadata": {},
     "output_type": "execute_result"
    }
   ],
   "source": [
    "data.head()"
   ]
  },
  {
   "cell_type": "markdown",
   "id": "6afcd239-65b7-4224-a817-ee541d9cda74",
   "metadata": {},
   "source": [
    "## prepare data"
   ]
  },
  {
   "cell_type": "markdown",
   "id": "a9a308d1-c148-4244-8705-373972de5dfe",
   "metadata": {},
   "source": [
    "list all empty filtered_tags"
   ]
  },
  {
   "cell_type": "code",
   "execution_count": 10,
   "id": "529cf638-b3de-4baf-8250-68d334648b0a",
   "metadata": {},
   "outputs": [
    {
     "data": {
      "text/plain": [
       "Series([], Name: filtered_tags, dtype: object)"
      ]
     },
     "execution_count": 10,
     "metadata": {},
     "output_type": "execute_result"
    }
   ],
   "source": [
    "data['filtered_tags'][data['filtered_tags'].str.len() == 0]"
   ]
  },
  {
   "cell_type": "code",
   "execution_count": 11,
   "id": "5ca104c2-e0b6-4c6d-b2e9-ab2d3640e034",
   "metadata": {},
   "outputs": [],
   "source": [
    "data['filtered_tags']=data['filtered_tags'].apply(lambda x : ['#empty'] if len(''.join(x)) == 0 else x)"
   ]
  },
  {
   "cell_type": "code",
   "execution_count": 12,
   "id": "afaf1573-ddb5-4cf8-bbe8-8136c12e5c42",
   "metadata": {},
   "outputs": [
    {
     "data": {
      "text/plain": [
       "Series([], Name: filtered_tags, dtype: object)"
      ]
     },
     "execution_count": 12,
     "metadata": {},
     "output_type": "execute_result"
    }
   ],
   "source": [
    "data['filtered_tags'][data['filtered_tags'].str.len() == 0]"
   ]
  },
  {
   "cell_type": "code",
   "execution_count": 13,
   "id": "3b09eac7-e01f-4a1f-be09-484977d9ddbb",
   "metadata": {},
   "outputs": [
    {
     "name": "stdout",
     "output_type": "stream",
     "text": [
      "(51904, 20)\n"
     ]
    }
   ],
   "source": [
    "print(data.shape)"
   ]
  },
  {
   "cell_type": "code",
   "execution_count": 14,
   "id": "546b2ecc-1f7b-417c-bf59-344247babfa6",
   "metadata": {},
   "outputs": [
    {
     "data": {
      "text/html": [
       "<div>\n",
       "<style scoped>\n",
       "    .dataframe tbody tr th:only-of-type {\n",
       "        vertical-align: middle;\n",
       "    }\n",
       "\n",
       "    .dataframe tbody tr th {\n",
       "        vertical-align: top;\n",
       "    }\n",
       "\n",
       "    .dataframe thead th {\n",
       "        text-align: right;\n",
       "    }\n",
       "</style>\n",
       "<table border=\"1\" class=\"dataframe\">\n",
       "  <thead>\n",
       "    <tr style=\"text-align: right;\">\n",
       "      <th></th>\n",
       "      <th>Title</th>\n",
       "      <th>Body</th>\n",
       "      <th>Tags</th>\n",
       "      <th>text</th>\n",
       "      <th>nb_char</th>\n",
       "      <th>tokens</th>\n",
       "      <th>tokens_title</th>\n",
       "      <th>nb_tokens</th>\n",
       "      <th>tokens_unique</th>\n",
       "      <th>nb_tokens_unique</th>\n",
       "      <th>tokens_WSW</th>\n",
       "      <th>tokens_title_WSW</th>\n",
       "      <th>nb_tokens_WSW</th>\n",
       "      <th>tokens_lemma</th>\n",
       "      <th>len_tokens_lemma</th>\n",
       "      <th>Tags_list</th>\n",
       "      <th>len _Tags_list</th>\n",
       "      <th>filtered_tags</th>\n",
       "      <th>filtered_tags_reduced</th>\n",
       "      <th>len_filtered_tags_reduced</th>\n",
       "    </tr>\n",
       "  </thead>\n",
       "  <tbody>\n",
       "    <tr>\n",
       "      <th>0</th>\n",
       "      <td>transpose/unzip function (inverse of zip)?</td>\n",
       "      <td>&lt;p&gt;I have a list of 2-item tuples and I'd like to convert them to 2 lists where the first contains the first item in each tuple and the second list holds the second item.&lt;/p&gt;\\n\\n&lt;p&gt;&lt;strong&gt;For exa...</td>\n",
       "      <td>&lt;python&gt;&lt;list&gt;&lt;matrix&gt;&lt;transpose&gt;</td>\n",
       "      <td>i have a list of 2-item tuples and i'd like to convert them to 2 lists where the first contains the first item in each tuple and the second list holds the second item.\\nfor example:\\noriginal = [(...</td>\n",
       "      <td>350</td>\n",
       "      <td>[i, have, a, list, of, 2, item, tuples, and, i, d, like, to, convert, them, to, 2, lists, where, the, first, contains, the, first, item, in, each, tuple, and, the, second, list, holds, the, second...</td>\n",
       "      <td>[transpose, unzip, function, inverse, of, zip]</td>\n",
       "      <td>70</td>\n",
       "      <td>(have, d, list, and, result, to, lists, c, convert, second, example, 2, for, original, 4, holds, want, builtin, #, there, item, them, that, tuples, contains, where, first, in, function, does, like...</td>\n",
       "      <td>42</td>\n",
       "      <td>[list, item, tuples, like, convert, lists, first, contains, first, item, tuple, second, list, holds, second, item, example, original, b, c, #, want, become, result, b, c, builtin, function]</td>\n",
       "      <td>[transpose, unzip, function, inverse, zip]</td>\n",
       "      <td>28</td>\n",
       "      <td>[list, item, tuple, like, convert, list, first, contain, first, item, tuple, second, list, hold, second, item, example, original, b, c, #, want, become, result, b, c, builtin, function]</td>\n",
       "      <td>28</td>\n",
       "      <td>[list, transpose, matrix, python]</td>\n",
       "      <td>4</td>\n",
       "      <td>[list, python]</td>\n",
       "      <td>tag0</td>\n",
       "      <td>1</td>\n",
       "    </tr>\n",
       "    <tr>\n",
       "      <th>1</th>\n",
       "      <td>detecting audio silence in wav files using c#</td>\n",
       "      <td>&lt;p&gt;I'm tasked with building a .NET client app to detect silence in a WAV files.&lt;/p&gt;\\n\\n&lt;p&gt;Is this possible with the built-in Windows APIs? Or alternately, any good libraries out there to help with...</td>\n",
       "      <td>&lt;c#&gt;&lt;.net&gt;&lt;audio&gt;</td>\n",
       "      <td>i'm tasked with building a .net client app to detect silence in a wav files.\\nis this possible with the built-in windows apis? or alternately, any good libraries out there to help with this?\\n</td>\n",
       "      <td>190</td>\n",
       "      <td>[i, m, tasked, with, building, a, net, client, app, to, detect, silence, in, a, wav, files, is, this, possible, with, the, built, in, windows, apis, or, alternately, any, good, libraries, out, the...</td>\n",
       "      <td>[detecting, audio, silence, in, wav, files, using, c#]</td>\n",
       "      <td>36</td>\n",
       "      <td>(good, tasked, silence, to, windows, app, files, this, help, alternately, any, there, is, wav, built, detect, m, in, building, possible, libraries, or, apis, out, with, a, the, i, net, client)</td>\n",
       "      <td>30</td>\n",
       "      <td>[tasked, building, net, client, app, detect, silence, wav, files, possible, built, windows, apis, alternately, good, libraries, help]</td>\n",
       "      <td>[detecting, audio, silence, wav, files, using, c#]</td>\n",
       "      <td>17</td>\n",
       "      <td>[task, build, net, client, app, detect, silence, wav, file, possible, build, window, apis, alternately, good, library, help]</td>\n",
       "      <td>17</td>\n",
       "      <td>[c#, audio, .net]</td>\n",
       "      <td>3</td>\n",
       "      <td>[c#, .net]</td>\n",
       "      <td>tag1</td>\n",
       "      <td>1</td>\n",
       "    </tr>\n",
       "    <tr>\n",
       "      <th>2</th>\n",
       "      <td>how to request a random row in sql?</td>\n",
       "      <td>&lt;p&gt;How can I request a random row (or as close to truly random as is possible) in pure SQL?&lt;/p&gt;\\n</td>\n",
       "      <td>&lt;sql&gt;&lt;random&gt;</td>\n",
       "      <td>how can i request a random row (or as close to truly random as is possible) in pure sql?\\n</td>\n",
       "      <td>89</td>\n",
       "      <td>[how, can, i, request, a, random, row, or, as, close, to, truly, random, as, is, possible, in, pure, sql]</td>\n",
       "      <td>[how, to, request, a, random, row, in, sql]</td>\n",
       "      <td>19</td>\n",
       "      <td>(a, row, how, i, sql, in, to, close, can, truly, request, possible, is, or, random, pure, as)</td>\n",
       "      <td>17</td>\n",
       "      <td>[request, random, row, close, truly, random, possible, pure, sql]</td>\n",
       "      <td>[request, random, row, sql]</td>\n",
       "      <td>9</td>\n",
       "      <td>[request, random, row, close, truly, random, possible, pure, sql]</td>\n",
       "      <td>9</td>\n",
       "      <td>[random, sql]</td>\n",
       "      <td>2</td>\n",
       "      <td>[sql]</td>\n",
       "      <td>tag108</td>\n",
       "      <td>1</td>\n",
       "    </tr>\n",
       "    <tr>\n",
       "      <th>4</th>\n",
       "      <td>detecting current iphone input language</td>\n",
       "      <td>&lt;p&gt;Does anybody knows, can I get the current input language and/or keyboard layout in iPhone application? Can I also get a notification when input language was changed?&lt;/p&gt;\\n</td>\n",
       "      <td>&lt;iphone&gt;&lt;keyboard&gt;</td>\n",
       "      <td>does anybody knows, can i get the current input language and/or keyboard layout in iphone application? can i also get a notification when input language was changed?\\n</td>\n",
       "      <td>166</td>\n",
       "      <td>[does, anybody, knows, can, i, get, the, current, input, language, and, or, keyboard, layout, in, iphone, application, can, i, also, get, a, notification, when, input, language, was, changed]</td>\n",
       "      <td>[detecting, current, iphone, input, language]</td>\n",
       "      <td>28</td>\n",
       "      <td>(current, get, layout, and, can, when, was, application, language, in, keyboard, notification, does, or, iphone, changed, anybody, a, the, knows, i, also, input)</td>\n",
       "      <td>23</td>\n",
       "      <td>[anybody, knows, get, current, input, language, keyboard, layout, iphone, application, also, get, notification, input, language, changed]</td>\n",
       "      <td>[detecting, current, iphone, input, language]</td>\n",
       "      <td>16</td>\n",
       "      <td>[anybody, know, get, current, input, language, keyboard, layout, iphone, application, also, get, notification, input, language, change]</td>\n",
       "      <td>16</td>\n",
       "      <td>[keyboard, iphone]</td>\n",
       "      <td>2</td>\n",
       "      <td>[iphone]</td>\n",
       "      <td>tag11</td>\n",
       "      <td>1</td>\n",
       "    </tr>\n",
       "    <tr>\n",
       "      <th>6</th>\n",
       "      <td>how can i use homebrew to install both python 2 and 3 on mac?</td>\n",
       "      <td>&lt;p&gt;I need to be able to switch back and forth between Python 2 and 3. How do I do that using Homebrew as I don't want to mess with path and get into trouble.\\nRight now I have 2.7 installed throug...</td>\n",
       "      <td>&lt;python&gt;&lt;homebrew&gt;</td>\n",
       "      <td>i need to be able to switch back and forth between python 2 and 3. how do i do that using homebrew as i don't want to mess with path and get into trouble.\\nright now i have 2.7 installed through h...</td>\n",
       "      <td>204</td>\n",
       "      <td>[i, need, to, be, able, to, switch, back, and, forth, between, python, 2, and, 3, how, do, i, do, that, using, homebrew, as, i, don, t, want, to, mess, with, path, and, get, into, trouble, right, ...</td>\n",
       "      <td>[how, can, i, use, homebrew, to, install, both, python, 2, and, 3, on, mac]</td>\n",
       "      <td>44</td>\n",
       "      <td>(have, get, and, using, through, to, don, path, switch, be, do, 2, want, need, python, t, that, trouble, homebrew, forth, 7, between, mess, with, back, how, i, 3, able, installed, into, now, right...</td>\n",
       "      <td>34</td>\n",
       "      <td>[need, able, switch, back, forth, python, using, homebrew, want, mess, path, get, trouble, right, installed, homebrew]</td>\n",
       "      <td>[use, homebrew, install, python, mac]</td>\n",
       "      <td>16</td>\n",
       "      <td>[need, able, switch, back, forth, python, use, homebrew, want, mess, path, get, trouble, right, instal, homebrew]</td>\n",
       "      <td>16</td>\n",
       "      <td>[homebrew, python]</td>\n",
       "      <td>2</td>\n",
       "      <td>[python]</td>\n",
       "      <td>tag0</td>\n",
       "      <td>1</td>\n",
       "    </tr>\n",
       "    <tr>\n",
       "      <th>7</th>\n",
       "      <td>mysql - force not to use cache for testing speed of query</td>\n",
       "      <td>&lt;p&gt;I'm testing the speed of some queries in MySQL. The database is caching these queries making it difficult for me to get reliable results when testing how fast these queries are.&lt;/p&gt;\\n\\n&lt;p&gt;Is th...</td>\n",
       "      <td>&lt;mysql&gt;</td>\n",
       "      <td>i'm testing the speed of some queries in mysql. the database is caching these queries making it difficult for me to get reliable results when testing how fast these queries are.\\nis there a way to...</td>\n",
       "      <td>298</td>\n",
       "      <td>[i, m, testing, the, speed, of, some, queries, in, mysql, the, database, is, caching, these, queries, making, it, difficult, for, me, to, get, reliable, results, when, testing, how, fast, these, q...</td>\n",
       "      <td>[mysql, force, not, to, use, cache, for, testing, speed, of, query]</td>\n",
       "      <td>54</td>\n",
       "      <td>(have, get, results, mysql, reliable, are, to, queries, when, query, database, fast, linux, for, 4, thanks, there, some, system, webhosting, way, speed, caching, difficult, m, in, disable, phpmyad...</td>\n",
       "      <td>41</td>\n",
       "      <td>[testing, speed, queries, mysql, database, caching, queries, making, difficult, get, reliable, results, testing, fast, queries, way, disable, caching, query, system, mysql, linux, webhosting, acce...</td>\n",
       "      <td>[mysql, force, use, cache, testing, speed, query]</td>\n",
       "      <td>26</td>\n",
       "      <td>[testing, speed, query, mysql, database, cache, query, make, difficult, get, reliable, result, test, fast, query, way, disable, cache, query, system, mysql, linux, webhoste, access, phpmyadmin, th...</td>\n",
       "      <td>26</td>\n",
       "      <td>[mysql]</td>\n",
       "      <td>1</td>\n",
       "      <td>[mysql]</td>\n",
       "      <td>tag14</td>\n",
       "      <td>1</td>\n",
       "    </tr>\n",
       "    <tr>\n",
       "      <th>8</th>\n",
       "      <td>processpoolexecutor from concurrent.futures way slower than multiprocessing.pool</td>\n",
       "      <td>&lt;p&gt;I was experimenting with the new shiny &lt;a href=\"http://docs.python.org/3.3/library/concurrent.futures.html\"&gt;concurrent.futures&lt;/a&gt; module introduced in Python 3.2, and I've noticed that, almost...</td>\n",
       "      <td>&lt;python&gt;&lt;concurrency&gt;&lt;multiprocessing&gt;&lt;future&gt;&lt;concurrent.futures&gt;</td>\n",
       "      <td>i was experimenting with the new shiny concurrent.futures module introduced in python 3.2, and i've noticed that, almost with identical code, using the pool from concurrent.futures is way slower t...</td>\n",
       "      <td>1514</td>\n",
       "      <td>[i, was, experimenting, with, the, new, shiny, concurrent, futures, module, introduced, in, python, 3, 2, and, i, ve, noticed, that, almost, with, identical, code, using, the, pool, from, concurre...</td>\n",
       "      <td>[processpoolexecutor, from, concurrent, futures, way, slower, than, multiprocessing, pool]</td>\n",
       "      <td>216</td>\n",
       "      <td>(get, main, count, na, 430s, if, 10, work, name, way, function, profiler, module, introduced, multiprocessing, 6m33, new, code, pass, 330s, cpu, is, n, eli, ve, result, taken, range, pickle, 64, #...</td>\n",
       "      <td>111</td>\n",
       "      <td>[experimenting, new, shiny, concurrent, futures, module, introduced, python, noticed, almost, identical, code, using, pool, concurrent, futures, way, slower, using, multiprocessing, pool, version,...</td>\n",
       "      <td>[processpoolexecutor, concurrent, futures, way, slower, multiprocessing, pool]</td>\n",
       "      <td>158</td>\n",
       "      <td>[experiment, new, shiny, concurrent, future, module, introduce, python, notice, almost, identical, code, use, pool, concurrent, future, way, slow, use, multiprocesse, pool, version, use, multiproc...</td>\n",
       "      <td>159</td>\n",
       "      <td>[future, concurrent.futures, concurrency, multiprocessing, python]</td>\n",
       "      <td>5</td>\n",
       "      <td>[python]</td>\n",
       "      <td>tag0</td>\n",
       "      <td>1</td>\n",
       "    </tr>\n",
       "    <tr>\n",
       "      <th>12</th>\n",
       "      <td>silverlight vs flex</td>\n",
       "      <td>&lt;p&gt;My company develops several types of applications.  A lot of our business comes from doing multimedia-type apps, typically done in Flash.  However, now that side of the house is starting to mig...</td>\n",
       "      <td>&lt;.net&gt;&lt;apache-flex&gt;&lt;flash&gt;&lt;silverlight&gt;</td>\n",
       "      <td>my company develops several types of applications.  a lot of our business comes from doing multimedia-type apps, typically done in flash.  however, now that side of the house is starting to migrat...</td>\n",
       "      <td>1185</td>\n",
       "      <td>[my, company, develops, several, types, of, applications, a, lot, of, our, business, comes, from, doing, multimedia, type, apps, typically, done, in, flash, however, now, that, side, of, the, hous...</td>\n",
       "      <td>[silverlight, vs, flex]</td>\n",
       "      <td>204</td>\n",
       "      <td>(prefer, better, push, if, honestly, other, want, silverlight, work, what, m, graphic, s, step, starting, each, going, code, artists, net, is, right, ve, flex, praise, obvious, everyone, advantage...</td>\n",
       "      <td>112</td>\n",
       "      <td>[company, develops, several, types, applications, lot, business, comes, multimedia, type, apps, typically, done, flash, however, side, house, starting, migrate, towards, flex, development, develop...</td>\n",
       "      <td>[silverlight, vs, flex]</td>\n",
       "      <td>105</td>\n",
       "      <td>[company, develop, several, type, application, lot, business, come, multimedia, type, app, typically, do, flash, however, side, house, start, migrate, towards, flex, development, development, do, ...</td>\n",
       "      <td>105</td>\n",
       "      <td>[apache-flex, flash, .net, silverlight]</td>\n",
       "      <td>4</td>\n",
       "      <td>[.net]</td>\n",
       "      <td>tag1</td>\n",
       "      <td>1</td>\n",
       "    </tr>\n",
       "  </tbody>\n",
       "</table>\n",
       "</div>"
      ],
      "text/plain": [
       "                                                                               Title  \\\n",
       "0                                         transpose/unzip function (inverse of zip)?   \n",
       "1                                      detecting audio silence in wav files using c#   \n",
       "2                                                how to request a random row in sql?   \n",
       "4                                            detecting current iphone input language   \n",
       "6                      how can i use homebrew to install both python 2 and 3 on mac?   \n",
       "7                          mysql - force not to use cache for testing speed of query   \n",
       "8   processpoolexecutor from concurrent.futures way slower than multiprocessing.pool   \n",
       "12                                                               silverlight vs flex   \n",
       "\n",
       "                                                                                                                                                                                                       Body  \\\n",
       "0   <p>I have a list of 2-item tuples and I'd like to convert them to 2 lists where the first contains the first item in each tuple and the second list holds the second item.</p>\\n\\n<p><strong>For exa...   \n",
       "1   <p>I'm tasked with building a .NET client app to detect silence in a WAV files.</p>\\n\\n<p>Is this possible with the built-in Windows APIs? Or alternately, any good libraries out there to help with...   \n",
       "2                                                                                                         <p>How can I request a random row (or as close to truly random as is possible) in pure SQL?</p>\\n   \n",
       "4                            <p>Does anybody knows, can I get the current input language and/or keyboard layout in iPhone application? Can I also get a notification when input language was changed?</p>\\n   \n",
       "6   <p>I need to be able to switch back and forth between Python 2 and 3. How do I do that using Homebrew as I don't want to mess with path and get into trouble.\\nRight now I have 2.7 installed throug...   \n",
       "7   <p>I'm testing the speed of some queries in MySQL. The database is caching these queries making it difficult for me to get reliable results when testing how fast these queries are.</p>\\n\\n<p>Is th...   \n",
       "8   <p>I was experimenting with the new shiny <a href=\"http://docs.python.org/3.3/library/concurrent.futures.html\">concurrent.futures</a> module introduced in Python 3.2, and I've noticed that, almost...   \n",
       "12  <p>My company develops several types of applications.  A lot of our business comes from doing multimedia-type apps, typically done in Flash.  However, now that side of the house is starting to mig...   \n",
       "\n",
       "                                                                  Tags  \\\n",
       "0                                    <python><list><matrix><transpose>   \n",
       "1                                                    <c#><.net><audio>   \n",
       "2                                                        <sql><random>   \n",
       "4                                                   <iphone><keyboard>   \n",
       "6                                                   <python><homebrew>   \n",
       "7                                                              <mysql>   \n",
       "8   <python><concurrency><multiprocessing><future><concurrent.futures>   \n",
       "12                             <.net><apache-flex><flash><silverlight>   \n",
       "\n",
       "                                                                                                                                                                                                       text  \\\n",
       "0   i have a list of 2-item tuples and i'd like to convert them to 2 lists where the first contains the first item in each tuple and the second list holds the second item.\\nfor example:\\noriginal = [(...   \n",
       "1          i'm tasked with building a .net client app to detect silence in a wav files.\\nis this possible with the built-in windows apis? or alternately, any good libraries out there to help with this?\\n   \n",
       "2                                                                                                                how can i request a random row (or as close to truly random as is possible) in pure sql?\\n   \n",
       "4                                   does anybody knows, can i get the current input language and/or keyboard layout in iphone application? can i also get a notification when input language was changed?\\n   \n",
       "6   i need to be able to switch back and forth between python 2 and 3. how do i do that using homebrew as i don't want to mess with path and get into trouble.\\nright now i have 2.7 installed through h...   \n",
       "7   i'm testing the speed of some queries in mysql. the database is caching these queries making it difficult for me to get reliable results when testing how fast these queries are.\\nis there a way to...   \n",
       "8   i was experimenting with the new shiny concurrent.futures module introduced in python 3.2, and i've noticed that, almost with identical code, using the pool from concurrent.futures is way slower t...   \n",
       "12  my company develops several types of applications.  a lot of our business comes from doing multimedia-type apps, typically done in flash.  however, now that side of the house is starting to migrat...   \n",
       "\n",
       "    nb_char  \\\n",
       "0       350   \n",
       "1       190   \n",
       "2        89   \n",
       "4       166   \n",
       "6       204   \n",
       "7       298   \n",
       "8      1514   \n",
       "12     1185   \n",
       "\n",
       "                                                                                                                                                                                                     tokens  \\\n",
       "0   [i, have, a, list, of, 2, item, tuples, and, i, d, like, to, convert, them, to, 2, lists, where, the, first, contains, the, first, item, in, each, tuple, and, the, second, list, holds, the, second...   \n",
       "1   [i, m, tasked, with, building, a, net, client, app, to, detect, silence, in, a, wav, files, is, this, possible, with, the, built, in, windows, apis, or, alternately, any, good, libraries, out, the...   \n",
       "2                                                                                                 [how, can, i, request, a, random, row, or, as, close, to, truly, random, as, is, possible, in, pure, sql]   \n",
       "4           [does, anybody, knows, can, i, get, the, current, input, language, and, or, keyboard, layout, in, iphone, application, can, i, also, get, a, notification, when, input, language, was, changed]   \n",
       "6   [i, need, to, be, able, to, switch, back, and, forth, between, python, 2, and, 3, how, do, i, do, that, using, homebrew, as, i, don, t, want, to, mess, with, path, and, get, into, trouble, right, ...   \n",
       "7   [i, m, testing, the, speed, of, some, queries, in, mysql, the, database, is, caching, these, queries, making, it, difficult, for, me, to, get, reliable, results, when, testing, how, fast, these, q...   \n",
       "8   [i, was, experimenting, with, the, new, shiny, concurrent, futures, module, introduced, in, python, 3, 2, and, i, ve, noticed, that, almost, with, identical, code, using, the, pool, from, concurre...   \n",
       "12  [my, company, develops, several, types, of, applications, a, lot, of, our, business, comes, from, doing, multimedia, type, apps, typically, done, in, flash, however, now, that, side, of, the, hous...   \n",
       "\n",
       "                                                                                  tokens_title  \\\n",
       "0                                               [transpose, unzip, function, inverse, of, zip]   \n",
       "1                                       [detecting, audio, silence, in, wav, files, using, c#]   \n",
       "2                                                  [how, to, request, a, random, row, in, sql]   \n",
       "4                                                [detecting, current, iphone, input, language]   \n",
       "6                  [how, can, i, use, homebrew, to, install, both, python, 2, and, 3, on, mac]   \n",
       "7                          [mysql, force, not, to, use, cache, for, testing, speed, of, query]   \n",
       "8   [processpoolexecutor, from, concurrent, futures, way, slower, than, multiprocessing, pool]   \n",
       "12                                                                     [silverlight, vs, flex]   \n",
       "\n",
       "    nb_tokens  \\\n",
       "0          70   \n",
       "1          36   \n",
       "2          19   \n",
       "4          28   \n",
       "6          44   \n",
       "7          54   \n",
       "8         216   \n",
       "12        204   \n",
       "\n",
       "                                                                                                                                                                                              tokens_unique  \\\n",
       "0   (have, d, list, and, result, to, lists, c, convert, second, example, 2, for, original, 4, holds, want, builtin, #, there, item, them, that, tuples, contains, where, first, in, function, does, like...   \n",
       "1          (good, tasked, silence, to, windows, app, files, this, help, alternately, any, there, is, wav, built, detect, m, in, building, possible, libraries, or, apis, out, with, a, the, i, net, client)   \n",
       "2                                                                                                             (a, row, how, i, sql, in, to, close, can, truly, request, possible, is, or, random, pure, as)   \n",
       "4                                         (current, get, layout, and, can, when, was, application, language, in, keyboard, notification, does, or, iphone, changed, anybody, a, the, knows, i, also, input)   \n",
       "6   (have, get, and, using, through, to, don, path, switch, be, do, 2, want, need, python, t, that, trouble, homebrew, forth, 7, between, mess, with, back, how, i, 3, able, installed, into, now, right...   \n",
       "7   (have, get, results, mysql, reliable, are, to, queries, when, query, database, fast, linux, for, 4, thanks, there, some, system, webhosting, way, speed, caching, difficult, m, in, disable, phpmyad...   \n",
       "8   (get, main, count, na, 430s, if, 10, work, name, way, function, profiler, module, introduced, multiprocessing, 6m33, new, code, pass, 330s, cpu, is, n, eli, ve, result, taken, range, pickle, 64, #...   \n",
       "12  (prefer, better, push, if, honestly, other, want, silverlight, work, what, m, graphic, s, step, starting, each, going, code, artists, net, is, right, ve, flex, praise, obvious, everyone, advantage...   \n",
       "\n",
       "    nb_tokens_unique  \\\n",
       "0                 42   \n",
       "1                 30   \n",
       "2                 17   \n",
       "4                 23   \n",
       "6                 34   \n",
       "7                 41   \n",
       "8                111   \n",
       "12               112   \n",
       "\n",
       "                                                                                                                                                                                                 tokens_WSW  \\\n",
       "0             [list, item, tuples, like, convert, lists, first, contains, first, item, tuple, second, list, holds, second, item, example, original, b, c, #, want, become, result, b, c, builtin, function]   \n",
       "1                                                                     [tasked, building, net, client, app, detect, silence, wav, files, possible, built, windows, apis, alternately, good, libraries, help]   \n",
       "2                                                                                                                                         [request, random, row, close, truly, random, possible, pure, sql]   \n",
       "4                                                                 [anybody, knows, get, current, input, language, keyboard, layout, iphone, application, also, get, notification, input, language, changed]   \n",
       "6                                                                                    [need, able, switch, back, forth, python, using, homebrew, want, mess, path, get, trouble, right, installed, homebrew]   \n",
       "7   [testing, speed, queries, mysql, database, caching, queries, making, difficult, get, reliable, results, testing, fast, queries, way, disable, caching, query, system, mysql, linux, webhosting, acce...   \n",
       "8   [experimenting, new, shiny, concurrent, futures, module, introduced, python, noticed, almost, identical, code, using, pool, concurrent, futures, way, slower, using, multiprocessing, pool, version,...   \n",
       "12  [company, develops, several, types, applications, lot, business, comes, multimedia, type, apps, typically, done, flash, however, side, house, starting, migrate, towards, flex, development, develop...   \n",
       "\n",
       "                                                                  tokens_title_WSW  \\\n",
       "0                                       [transpose, unzip, function, inverse, zip]   \n",
       "1                               [detecting, audio, silence, wav, files, using, c#]   \n",
       "2                                                      [request, random, row, sql]   \n",
       "4                                    [detecting, current, iphone, input, language]   \n",
       "6                                            [use, homebrew, install, python, mac]   \n",
       "7                                [mysql, force, use, cache, testing, speed, query]   \n",
       "8   [processpoolexecutor, concurrent, futures, way, slower, multiprocessing, pool]   \n",
       "12                                                         [silverlight, vs, flex]   \n",
       "\n",
       "    nb_tokens_WSW  \\\n",
       "0              28   \n",
       "1              17   \n",
       "2               9   \n",
       "4              16   \n",
       "6              16   \n",
       "7              26   \n",
       "8             158   \n",
       "12            105   \n",
       "\n",
       "                                                                                                                                                                                               tokens_lemma  \\\n",
       "0                 [list, item, tuple, like, convert, list, first, contain, first, item, tuple, second, list, hold, second, item, example, original, b, c, #, want, become, result, b, c, builtin, function]   \n",
       "1                                                                              [task, build, net, client, app, detect, silence, wav, file, possible, build, window, apis, alternately, good, library, help]   \n",
       "2                                                                                                                                         [request, random, row, close, truly, random, possible, pure, sql]   \n",
       "4                                                                   [anybody, know, get, current, input, language, keyboard, layout, iphone, application, also, get, notification, input, language, change]   \n",
       "6                                                                                         [need, able, switch, back, forth, python, use, homebrew, want, mess, path, get, trouble, right, instal, homebrew]   \n",
       "7   [testing, speed, query, mysql, database, cache, query, make, difficult, get, reliable, result, test, fast, query, way, disable, cache, query, system, mysql, linux, webhoste, access, phpmyadmin, th...   \n",
       "8   [experiment, new, shiny, concurrent, future, module, introduce, python, notice, almost, identical, code, use, pool, concurrent, future, way, slow, use, multiprocesse, pool, version, use, multiproc...   \n",
       "12  [company, develop, several, type, application, lot, business, come, multimedia, type, app, typically, do, flash, however, side, house, start, migrate, towards, flex, development, development, do, ...   \n",
       "\n",
       "    len_tokens_lemma  \\\n",
       "0                 28   \n",
       "1                 17   \n",
       "2                  9   \n",
       "4                 16   \n",
       "6                 16   \n",
       "7                 26   \n",
       "8                159   \n",
       "12               105   \n",
       "\n",
       "                                                             Tags_list  \\\n",
       "0                                    [list, transpose, matrix, python]   \n",
       "1                                                    [c#, audio, .net]   \n",
       "2                                                        [random, sql]   \n",
       "4                                                   [keyboard, iphone]   \n",
       "6                                                   [homebrew, python]   \n",
       "7                                                              [mysql]   \n",
       "8   [future, concurrent.futures, concurrency, multiprocessing, python]   \n",
       "12                             [apache-flex, flash, .net, silverlight]   \n",
       "\n",
       "    len _Tags_list   filtered_tags filtered_tags_reduced  \\\n",
       "0                4  [list, python]                  tag0   \n",
       "1                3      [c#, .net]                  tag1   \n",
       "2                2           [sql]                tag108   \n",
       "4                2        [iphone]                 tag11   \n",
       "6                2        [python]                  tag0   \n",
       "7                1         [mysql]                 tag14   \n",
       "8                5        [python]                  tag0   \n",
       "12               4          [.net]                  tag1   \n",
       "\n",
       "    len_filtered_tags_reduced  \n",
       "0                           1  \n",
       "1                           1  \n",
       "2                           1  \n",
       "4                           1  \n",
       "6                           1  \n",
       "7                           1  \n",
       "8                           1  \n",
       "12                          1  "
      ]
     },
     "execution_count": 14,
     "metadata": {},
     "output_type": "execute_result"
    }
   ],
   "source": [
    "data.head(8)"
   ]
  },
  {
   "cell_type": "markdown",
   "id": "c9fd76de-3724-493d-ba7a-47bc72242af0",
   "metadata": {},
   "source": [
    "## shared functions"
   ]
  },
  {
   "cell_type": "code",
   "execution_count": 15,
   "id": "b9b05242-323d-4765-b5bd-333a1617a40e",
   "metadata": {},
   "outputs": [],
   "source": [
    "def wordFrequency(data):\n",
    "    ''' take pandas series and count words retun the occurences of the elements'''\n",
    "    freqTotal = {}\n",
    "    for text in data:\n",
    "        freq = nltk.Counter(text)\n",
    "        for word, count in freq.items():\n",
    "            if word in freqTotal.keys():\n",
    "                freqTotal[word] += count\n",
    "            else:\n",
    "                freqTotal[word] = count\n",
    "    return freqTotal\n",
    "\n",
    "def splitData(df,XCol,Ycol,ratioToKeep=1):\n",
    "    \"\"\" split data into two sets X and Y and then split them into  trainning and validation sets \n",
    "    the total will be 4 sets. the function returns pandas series or pandas dataframe types\"\"\"# add sample \n",
    "    df = df.sample(frac=ratioToKeep)\n",
    "    print(f'data used shape: {df.shape}')\n",
    "    X=df.loc[:,XCol]\n",
    "    y=df.loc[:,Ycol]\n",
    "    X_train, X_test, y_train, y_test = train_test_split(X, y, test_size=0.33, random_state=42)\n",
    "    print(f'X_train types:\\t{type(X_train)}')\n",
    "    print(f'X_test types:\\t{type(X_test)}')\n",
    "    print(f'Y_test types:\\t{type(y_test)}')\n",
    "    print(f'Y_train types:\\t{type(y_train)}')\n",
    "    return X_train, X_test, y_train, y_test\n",
    "\n",
    "def reduceData (Xtrain, Ytrain, ratioToKeep=0.2):\n",
    "    size = Xtrain.shape[0]\n",
    "    nbRowsToKeep = int(np.rint(size*ratioToKeep))\n",
    "    indRowToKeep = np.random.choice(size, nbRowsToKeep)\n",
    "    Xtrain = Xtrain[indRowToKeep,:]\n",
    "    Ytrain = Ytrain[indRowToKeep,:]\n",
    "    return (Xtrain,Ytrain)"
   ]
  },
  {
   "cell_type": "code",
   "execution_count": 16,
   "id": "bf19827d-c298-46bf-8f7e-ff18d5faea2f",
   "metadata": {},
   "outputs": [],
   "source": [
    "def BOW(Xtrain, Xval):\n",
    "    \"\"\" set the BOW method for X train and validation sets.\"\"\"\n",
    "    Xtrain = Xtrain.apply(lambda x : ' '.join(x))\n",
    "    Xval = Xval.apply(lambda x : ' '.join(x))\n",
    "    XtrainCorpus = [x for x in Xtrain]\n",
    "    XvalCorpus = [x for x in Xval]\n",
    "    vectorizer = CountVectorizer()\n",
    "    Xtrain = vectorizer.fit_transform(XtrainCorpus)\n",
    "    print('-'*15)\n",
    "    print(f\"Xtrain vectorized shape: {Xtrain.shape}\\n\")\n",
    "    Xval = vectorizer.transform(XvalCorpus)\n",
    "    print(f\"Xval vectorized shape: {Xval.shape}\\n\")\n",
    "    return (Xtrain,Xval)\n",
    "\n",
    "def Binarize(Ytrain,Yval):\n",
    "    \"\"\"  binarize The tags for Y train and validation sets. \"\"\"\n",
    "    mlb = MultiLabelBinarizer()\n",
    "    mlb.fit([Ytrain]) # if Y is not list of list, mlb.fit(['sci-fi', 'thriller', 'comedy']) -> array(['-', 'c', 'd', 'e', 'f', 'h', 'i', 'l', 'm', 'o', 'r', 's', 't','y'], dtype=object)\n",
    "    for i in Ytrain.index:\n",
    "        Ytrain.loc[i] = mlb.transform([[Ytrain.loc[i]]])[0]\n",
    "    for i in Yval.index:\n",
    "        Yval.loc[i] = mlb.transform([[Yval.loc[i]]])[0]\n",
    "    labels = mlb.classes_\n",
    "    print('-'*15)\n",
    "    print(f\"Ytrain vectorized shape: {Ytrain.shape}\\n\")\n",
    "    print(f\"Yval vectorized shape: {Yval.shape}\\n\")\n",
    "    print(f\"classes : {mlb.classes_}\")\n",
    "    return (Ytrain,Yval, labels)\n",
    "\n",
    "def plotRoc():\n",
    "    # Compute ROC curve and ROC area for each class\n",
    "    fpr = dict()\n",
    "    tpr = dict()\n",
    "    roc_auc = dict()\n",
    "    for i in range(len(labels)):\n",
    "        fpr[i], tpr[i], _ = roc_curve(y_val[:, i], y_pred[:, i])\n",
    "        roc_auc[i] = auc(fpr[i], tpr[i])\n",
    "    # Compute micro-average ROC curve and ROC area\n",
    "    fpr[\"micro\"], tpr[\"micro\"], _ = roc_curve(y_test.ravel(), y_score.ravel())\n",
    "    roc_auc[\"micro\"] = auc(fpr[\"micro\"], tpr[\"micro\"])\n",
    "    plt.figure()\n",
    "    lw = 2\n",
    "    plt.plot(\n",
    "        fpr[2],\n",
    "        tpr[2],\n",
    "        color=\"darkorange\",\n",
    "        lw=lw,\n",
    "        label=\"ROC curve (area = %0.2f)\" % roc_auc[2],\n",
    "    )\n",
    "    plt.plot([0, 1], [0, 1], color=\"navy\", lw=lw, linestyle=\"--\")\n",
    "    plt.xlim([0.0, 1.0])\n",
    "    plt.ylim([0.0, 1.05])\n",
    "    plt.xlabel(\"False Positive Rate\")\n",
    "    plt.ylabel(\"True Positive Rate\")\n",
    "    plt.title(\"Receiver operating characteristic example\")\n",
    "    plt.legend(loc=\"lower right\")\n",
    "    plt.show()\n",
    "\n",
    "\n",
    "\n",
    "\n",
    "\n",
    "def clfScore(model,Xval, Yval, labels, fileName,PATH=path_res):                           #  correct position of the labels ???\n",
    "    y_pred = model.predict(Xval)\n",
    "    F1score=met.f1_score(y_pred, Yval, average=None)\n",
    "    preciScore=met.precision_score(y_pred, Yval, average=None)\n",
    "    recallScore=met.recall_score(y_pred, Yval, average=None)\n",
    "    print(f'{\"Tags\":25}\\t\\t F-score\\t\\t precision\\t\\t recall\\n')\n",
    "    with open(PATH + fileName,'w') as f:\n",
    "        for ind,name in enumerate(labels):\n",
    "            f.write(f'{name:25}\\t\\t {F1score[ind]:4f}\\t\\t {preciScore[ind]:4f}\\t\\t {recallScore[ind]:4f}\\n')\n",
    "            print(f'{name:25}\\t\\t {F1score[ind]:4f}\\t\\t {preciScore[ind]:4f}\\t\\t {recallScore[ind]:4f}')\n",
    "    #plotRoc(labels,y_pred,y_val)\n",
    "    \n",
    "        \n",
    "\n",
    "    \n",
    "    "
   ]
  },
  {
   "cell_type": "markdown",
   "id": "7e9cf3c4-0f8b-441c-8e46-fcd01aa571d2",
   "metadata": {},
   "source": [
    "# WordTOvec test"
   ]
  },
  {
   "cell_type": "code",
   "execution_count": 17,
   "id": "f9f40b27-6b22-4d42-9f94-34a51e2d6b64",
   "metadata": {},
   "outputs": [],
   "source": [
    "### test  Word2vec features"
   ]
  },
  {
   "cell_type": "code",
   "execution_count": 18,
   "id": "52939b79-1f30-4990-9381-a6e5629ae6e7",
   "metadata": {},
   "outputs": [
    {
     "name": "stdout",
     "output_type": "stream",
     "text": [
      "data used shape: (25952, 20)\n",
      "X_train types:\t<class 'pandas.core.series.Series'>\n",
      "X_test types:\t<class 'pandas.core.series.Series'>\n",
      "Y_test types:\t<class 'pandas.core.series.Series'>\n",
      "Y_train types:\t<class 'pandas.core.series.Series'>\n"
     ]
    }
   ],
   "source": [
    "X_train, X_val, y_train, y_val = splitData(data,XCol='tokens_lemma',Ycol='filtered_tags',ratioToKeep=0.5) # too much time without sampling"
   ]
  },
  {
   "cell_type": "code",
   "execution_count": 19,
   "id": "fddec2d9-22eb-4992-b82d-b80af6fc19d2",
   "metadata": {},
   "outputs": [],
   "source": [
    "# Xtrain, Xval = BOW(X_train, X_val)"
   ]
  },
  {
   "cell_type": "code",
   "execution_count": 20,
   "id": "c5c2cf32-ac67-4d07-91c4-aaff0a3deb6c",
   "metadata": {},
   "outputs": [],
   "source": [
    "Xtrain = X_train.to_list()\n",
    "#display(Xtrain)"
   ]
  },
  {
   "cell_type": "code",
   "execution_count": 21,
   "id": "bd3a0054-8bfe-41c0-abe0-de4062a11a32",
   "metadata": {},
   "outputs": [],
   "source": [
    "w2v_size=300\n",
    "w2v_window=5\n",
    "w2v_min_count=1\n",
    "w2v_epochs=100\n",
    "maxlen = 24 # adapt to length of sentences\n",
    "#sentences = [gensim.utils.simple_preprocess(text) for text in Xtrain]\n",
    "#sentences = [gensim.utils.simple_preprocess(Xtrain)]\n",
    "sentences = Xtrain"
   ]
  },
  {
   "cell_type": "code",
   "execution_count": 22,
   "id": "8486c56c-58e9-4e54-b807-60b0f9c342cf",
   "metadata": {},
   "outputs": [
    {
     "name": "stdout",
     "output_type": "stream",
     "text": [
      "Build & train Word2Vec model ...\n",
      "Vocabulary size: 46783\n",
      "Word2Vec trained\n"
     ]
    }
   ],
   "source": [
    "# Création et entraînement du modèle Word2Vec\n",
    "\n",
    "print(\"Build & train Word2Vec model ...\")\n",
    "w2v_model = gensim.models.Word2Vec(min_count=w2v_min_count, window=w2v_window,\n",
    "                                                vector_size=w2v_size,\n",
    "                                                seed=42,\n",
    "                                                workers=1)\n",
    "#                                               workers=multiprocessing.cpu_count())\n",
    "w2v_model.build_vocab(sentences)\n",
    "w2v_model.train(sentences, total_examples=w2v_model.corpus_count, epochs=w2v_epochs)\n",
    "#w2v_model.corpus_count -> Xtrain size\n",
    "model_vectors = w2v_model.wv\n",
    "w2v_words = model_vectors.index_to_key\n",
    "print(\"Vocabulary size: %i\" % len(w2v_words))\n",
    "print(\"Word2Vec trained\")"
   ]
  },
  {
   "cell_type": "code",
   "execution_count": 23,
   "id": "1a44c9db-0c9b-4dd8-9dbf-70846ede43b9",
   "metadata": {},
   "outputs": [
    {
     "data": {
      "text/plain": [
       "[('panda', 0.35724255442619324),\n",
       " ('one', 0.3434944748878479),\n",
       " ('array', 0.3403604030609131),\n",
       " ('c', 0.33116263151168823),\n",
       " ('list', 0.32976242899894714)]"
      ]
     },
     "execution_count": 23,
     "metadata": {},
     "output_type": "execute_result"
    }
   ],
   "source": [
    "w2v_model.wv.most_similar(positive=['python','dataframe'], topn=5)"
   ]
  },
  {
   "cell_type": "code",
   "execution_count": 24,
   "id": "4af6c427-b858-41d8-806a-9d851164fe7c",
   "metadata": {},
   "outputs": [
    {
     "name": "stdout",
     "output_type": "stream",
     "text": [
      "vocabulary size: (46783, 300)\n"
     ]
    }
   ],
   "source": [
    "#w2v_model.wv['python'] + w2v_model.wv['dataframe']\n",
    "#w2v_model.wv.most_similar(positive=['python','python'], topn=5)\n",
    "print(f'vocabulary size: {w2v_model.wv.vectors.shape}')\n",
    "#w2v_model.wv.key_to_index.keys() #  words learnt"
   ]
  },
  {
   "cell_type": "code",
   "execution_count": 25,
   "id": "1d190be6-62c4-416c-98fb-e79d12519dce",
   "metadata": {},
   "outputs": [],
   "source": [
    "def sentence2Vec(x):\n",
    "    sum=np.zeros(shape=(w2v_size,), dtype=float)\n",
    "    for word in x:\n",
    "        if word in w2v_model.wv.key_to_index.keys():\n",
    "            sum+=w2v_model.wv[word]\n",
    "        \n",
    "    return sum"
   ]
  },
  {
   "cell_type": "code",
   "execution_count": 26,
   "id": "0acba40f-d332-4866-ba40-672f975a0764",
   "metadata": {},
   "outputs": [],
   "source": [
    "X_train = X_train.apply(sentence2Vec)\n",
    "X_val = X_val.apply(sentence2Vec)"
   ]
  },
  {
   "cell_type": "code",
   "execution_count": 27,
   "id": "cdd42019-a0a6-4879-937d-7087036b2b31",
   "metadata": {},
   "outputs": [
    {
     "data": {
      "text/plain": [
       "11855    [-11.771240472793579, -15.152553103864193, -27.617887877859175, -9.939977053552866, 14.133790597319603, -9.313298674300313, -10.836395336315036, -17.799319379031658, -2.4157352969050407, -15.94972...\n",
       "63955    [13.058725936338305, 12.901569683104753, 17.753930203150958, 10.553578093647957, -0.05709996074438095, -10.248427394777536, -4.590606007725, -34.10532204806805, 6.179462884552777, -14.406759255100...\n",
       "57931    [4.225326258689165, 6.619971051812172, -4.598191998433322, -6.307824179530144, -6.604692071676254, 2.1905617602169514, -15.604895390570164, -19.5350179951638, -9.50810008123517, -14.27948206663131...\n",
       "64857    [10.928472986444831, -1.7770422575995326, -0.7221427410840988, -1.3425220288336277, 4.400133825838566, 3.616092184558511, -6.186429604887962, -10.464931458234787, -2.3366588298231363, -0.580533226...\n",
       "39463    [5.1191253662109375, -4.8990762531757355, -7.9826939925551414, 1.2017227858304977, 2.4907878624508157, -2.3661383129656315, 2.0452920272946358, -0.08836524188518524, -7.364698097109795, -8.5083210...\n",
       "                                                                                                          ...                                                                                                   \n",
       "36929    [6.020372398197651, -28.35807302594185, -6.466928541660309, -5.732017382979393, 6.236604127683677, -9.7486019320786, -5.669132173061371, -39.44909246265888, -35.27051164209843, -35.88354072161019,...\n",
       "13252    [10.885486598592252, 9.070052325725555, -20.08559427037835, 12.044067515991628, 4.225983053445816, -11.061832550913095, -38.684032045304775, -8.812915228307247, -4.89734934642911, -4.6243895217776...\n",
       "56969    [-19.551982890814543, -0.8700848026201129, -13.93864480778575, 34.89387899264693, 32.854792937636375, -29.816806476563215, -0.04899228643625975, -20.625557839870453, -4.9996867794543505, 3.2711239...\n",
       "67180    [1.3040039092302322, -7.724183093756437, 5.423604186624289, 3.1210398685652763, 11.826895028352737, 5.2134008426219225, 6.9661881029605865, -19.234257455915213, -15.119964201003313, -11.5664043575...\n",
       "26876    [24.257310330867767, -10.591798193752766, 26.06751746032387, 3.213743694126606, 42.97870409232564, 3.7485553696751595, 5.032091893255711, -38.84934427589178, -23.009757621213794, -59.4323020167648...\n",
       "Name: tokens_lemma, Length: 17387, dtype: object"
      ]
     },
     "execution_count": 27,
     "metadata": {},
     "output_type": "execute_result"
    }
   ],
   "source": [
    "X_train"
   ]
  },
  {
   "cell_type": "code",
   "execution_count": 28,
   "id": "f5153065-2a24-42eb-8644-3bf7d570eda8",
   "metadata": {},
   "outputs": [
    {
     "name": "stdout",
     "output_type": "stream",
     "text": [
      "(3, 3)\n"
     ]
    }
   ],
   "source": [
    "my_list_of_lists = [[1, 2, 3], [4, 5, 6], [7, 8, 9]]\n",
    "my_array = np.asarray(my_list_of_lists)\n",
    "print(my_array.shape)"
   ]
  },
  {
   "cell_type": "markdown",
   "id": "1535f22d-a1dd-47d2-a0df-0a33b298f863",
   "metadata": {},
   "source": [
    "# Models"
   ]
  },
  {
   "cell_type": "markdown",
   "id": "7107ceba-6a8d-4a93-b811-ea5c6f43bf95",
   "metadata": {},
   "source": [
    "## functions W2V"
   ]
  },
  {
   "cell_type": "code",
   "execution_count": 29,
   "id": "fd9754fb-5291-4fc4-ab16-d03449198b0c",
   "metadata": {},
   "outputs": [],
   "source": [
    "def W2V(X_train):\n",
    "    Xtrain = X_train.to_list()\n",
    "    w2v_size=300\n",
    "    w2v_window=5\n",
    "    w2v_min_count=1\n",
    "    w2v_epochs=100\n",
    "    maxlen = 24 # adapt to length of sentences\n",
    "    sentences = Xtrain\n",
    "    print(\"Build & train Word2Vec model ...\")\n",
    "    w2v_model = gensim.models.Word2Vec(min_count=w2v_min_count, window=w2v_window,\n",
    "                                                vector_size=w2v_size,\n",
    "                                                seed=42,\n",
    "                                                workers=3)\n",
    "#                                               workers=multiprocessing.cpu_count())\n",
    "    w2v_model.build_vocab(sentences)\n",
    "    w2v_model.train(sentences, total_examples=w2v_model.corpus_count, epochs=w2v_epochs)\n",
    "    model_vectors = w2v_model.wv\n",
    "    w2v_words = model_vectors.index_to_key\n",
    "    print(f\"Vocabulary size: {len(w2v_words)}\")\n",
    "    print(\"Word2Vec trained\")\n",
    "    W2VDic = {'w2v_size':w2v_size,  \n",
    "              'w2v_window':w2v_window,\n",
    "              'w2v_min_count': w2v_min_count,\n",
    "              'w2v_epochs':w2v_epochs,\n",
    "              'w2v_model':w2v_model,\n",
    "              'w2v_words':w2v_words}\n",
    "    return W2VDic\n",
    "              \n",
    "    \n",
    "def sentence2Vec(x,w2v_model,w2v_size):\n",
    "    sum=np.zeros(shape=(w2v_size,), dtype=float)\n",
    "    for word in x:\n",
    "        if word in w2v_model.wv.key_to_index.keys():\n",
    "            sum+=w2v_model.wv[word]\n",
    "            \n",
    "    sum=[i for i in sum] # allow to transform X_train/X_val to a numpy ndarray\n",
    "    return sum"
   ]
  },
  {
   "cell_type": "markdown",
   "id": "433e3aaa-fc60-4763-a39a-820e748f8d57",
   "metadata": {},
   "source": [
    "### create Data sets"
   ]
  },
  {
   "cell_type": "code",
   "execution_count": 30,
   "id": "1b231fe5-a636-4464-87ad-d691800dcc96",
   "metadata": {},
   "outputs": [
    {
     "name": "stdout",
     "output_type": "stream",
     "text": [
      "data used shape: (51904, 20)\n",
      "X_train types:\t<class 'pandas.core.series.Series'>\n",
      "X_test types:\t<class 'pandas.core.series.Series'>\n",
      "Y_test types:\t<class 'pandas.core.series.Series'>\n",
      "Y_train types:\t<class 'pandas.core.series.Series'>\n",
      "Build & train Word2Vec model ...\n",
      "Vocabulary size: 69187\n",
      "Word2Vec trained\n"
     ]
    }
   ],
   "source": [
    "X_train, X_val, y_train, y_val = splitData(data,XCol='tokens_lemma',Ycol='filtered_tags_reduced',ratioToKeep=1) # too much time without sampling\n",
    "#print(y_train)\n",
    "W2VDic =W2V(X_train)\n"
   ]
  },
  {
   "cell_type": "code",
   "execution_count": 31,
   "id": "f3a1fbdc-14f3-4ef9-9d2d-50a4896e4238",
   "metadata": {},
   "outputs": [
    {
     "name": "stdout",
     "output_type": "stream",
     "text": [
      "---------------\n",
      "Ytrain vectorized shape: (34775,)\n",
      "\n",
      "Yval vectorized shape: (17129,)\n",
      "\n",
      "classes : ['tag0' 'tag1' 'tag10' 'tag108' 'tag11' 'tag12' 'tag13' 'tag14' 'tag15'\n",
      " 'tag16' 'tag17' 'tag18' 'tag19' 'tag2' 'tag20' 'tag21' 'tag22' 'tag23'\n",
      " 'tag24' 'tag25' 'tag26' 'tag27' 'tag28' 'tag29' 'tag3' 'tag30' 'tag31'\n",
      " 'tag32' 'tag33' 'tag34' 'tag35' 'tag36' 'tag37' 'tag38' 'tag4' 'tag5'\n",
      " 'tag6' 'tag7' 'tag8' 'tag9']\n",
      "y_train vectorized shape: (34775, 40)\n",
      "\n",
      "y_val vectorized shape: (17129, 40)\n",
      "\n",
      "---- After SMOTE ----\n",
      "y_train vectorized shape: (141840, 40)\n",
      "\n",
      "X_train vectorized shape: (141840, 300)\n",
      "\n",
      "---- Reduce size training set ----\n",
      "y_train vectorized shape: (35460, 40)\n",
      "\n",
      "y_val vectorized shape: (17129, 40)\n",
      "\n",
      "X_train vectorized shape: (35460, 300)\n",
      "\n",
      "X_val vectorized shape: (17129, 300)\n",
      "\n"
     ]
    }
   ],
   "source": [
    "Xtrain = X_train.apply(lambda x: sentence2Vec(x,W2VDic['w2v_model'],W2VDic['w2v_size']))\n",
    "Xval = X_val.apply(lambda x: sentence2Vec(x,W2VDic['w2v_model'],W2VDic['w2v_size']))\n",
    "y_train, y_val, labels = Binarize(y_train,y_val)\n",
    "#print(Xtrain.shape)\n",
    "Xtrain =  [i for i in Xtrain] # allow to transform X_train/X_val to a numpy ndarray\n",
    "Xval = [i for i in Xval]      # allow to transform X_train/X_val to a numpy ndarray\n",
    "X_train = np.asarray(Xtrain)\n",
    "X_val = np.asarray(Xval)\n",
    "\n",
    "y_train = [ i for i in y_train]\n",
    "y_val = [ i for i in y_val]\n",
    "y_train = np.asarray(y_train)\n",
    "y_val = np.asarray(y_val)\n",
    "\n",
    "\n",
    "print(f\"y_train vectorized shape: {y_train.shape}\\n\")\n",
    "print(f\"y_val vectorized shape: {y_val.shape}\\n\")\n",
    "\n",
    "oversample = SMOTE(random_state=42)\n",
    "X_train, y_train = oversample.fit_resample(X_train, y_train) # SMOTE\n",
    "X_train, y_train = shuffle(X_train,y_train, random_state=1)\n",
    "print(f\"---- After SMOTE ----\")\n",
    "print(f\"y_train vectorized shape: {y_train.shape}\\n\")\n",
    "print(f\"X_train vectorized shape: {X_train.shape}\\n\")\n",
    "\n",
    "print(f\"---- Reduce size training set ----\")\n",
    "X_train, y_train = reduceData(X_train ,y_train,ratioToKeep=0.25) #0.05\n",
    "\n",
    "print(f\"y_train vectorized shape: {y_train.shape}\\n\")\n",
    "print(f\"y_val vectorized shape: {y_val.shape}\\n\")\n",
    "print(f\"X_train vectorized shape: {X_train.shape}\\n\")\n",
    "print(f\"X_val vectorized shape: {X_val.shape}\\n\")\n",
    "#np.any(y_train.sum(axis=1) > 1) # control binarize output"
   ]
  },
  {
   "cell_type": "code",
   "execution_count": 32,
   "id": "fb63b8b0-bf78-4a35-b9a8-1af158bf622a",
   "metadata": {},
   "outputs": [
    {
     "data": {
      "text/plain": [
       "array([925, 913, 925, 878, 839, 915, 910, 904, 881, 925, 850, 911, 917,\n",
       "       893, 873, 840, 872, 855, 880, 910, 869, 882, 855, 873, 828, 870,\n",
       "       898, 837, 918, 902, 903, 847, 849, 940, 908, 886, 890, 884, 877,\n",
       "       928])"
      ]
     },
     "execution_count": 32,
     "metadata": {},
     "output_type": "execute_result"
    }
   ],
   "source": [
    "y_train.sum(axis=0)"
   ]
  },
  {
   "cell_type": "markdown",
   "id": "ddb399dc-0885-4f2d-af4b-983253915155",
   "metadata": {},
   "source": [
    "###  logistic regression"
   ]
  },
  {
   "cell_type": "code",
   "execution_count": 33,
   "id": "ef3867fe-65bb-4196-9c14-3c5cc0a145d6",
   "metadata": {},
   "outputs": [
    {
     "name": "stdout",
     "output_type": "stream",
     "text": [
      "Meilleurs hyper-paramètres :\n",
      "{'estimator__estimator__C': 10}\n"
     ]
    }
   ],
   "source": [
    "#y_train, y_val, labels = Binarize(y_train,y_val)\n",
    "\n",
    "log_clf = OneVsRestClassifier(LogisticRegression(random_state=0,\n",
    "                                                 max_iter=10000,\n",
    "                                                 verbose=0))\n",
    "\n",
    "model = Pipeline(steps=[(\"scaler\" , StandardScaler()),('estimator',log_clf)])\n",
    "#raise Exception(\"trop long\") \n",
    "# hyperparameters\n",
    "param_grid = [{'estimator__estimator__C': [0.1, 0.5, 1., 5, 10]}] # lambda regularization\n",
    "\n",
    "# cross-validation\n",
    "clf = GridSearchCV(model,\n",
    "                   param_grid,\n",
    "                   scoring='f1_macro', #F1 = 2 * (precision * recall) / (precision + recall)\n",
    "                   n_jobs=-1,\n",
    "                   verbose=0,\n",
    "                   cv=5,\n",
    "                   return_train_score=True)\n",
    "clf.fit(X_train, y_train)\n",
    "log_clf_best_param = clf.best_params_['estimator__estimator__C']\n",
    "print('Meilleurs hyper-paramètres :')\n",
    "print(clf.best_params_)"
   ]
  },
  {
   "cell_type": "code",
   "execution_count": 34,
   "id": "9062b7e9-4292-481d-a823-c9220e04d117",
   "metadata": {},
   "outputs": [
    {
     "name": "stdout",
     "output_type": "stream",
     "text": [
      "Tags                     \t\t F-score\t\t precision\t\t recall\n",
      "\n",
      "tag0                     \t\t 0.361999\t\t 0.235225\t\t 0.785156\n",
      "tag1                     \t\t 0.188270\t\t 0.113826\t\t 0.544160\n",
      "tag10                    \t\t 0.438007\t\t 0.473684\t\t 0.407328\n",
      "tag108                   \t\t 0.405963\t\t 0.343023\t\t 0.497191\n",
      "tag11                    \t\t 0.268861\t\t 0.223235\t\t 0.337931\n",
      "tag12                    \t\t 0.745149\t\t 0.742268\t\t 0.748052\n",
      "tag13                    \t\t 0.201626\t\t 0.180758\t\t 0.227941\n",
      "tag14                    \t\t 0.386364\t\t 0.411765\t\t 0.363914\n",
      "tag15                    \t\t 0.246479\t\t 0.214067\t\t 0.290456\n",
      "tag16                    \t\t 0.263158\t\t 0.284281\t\t 0.244957\n",
      "tag17                    \t\t 0.280587\t\t 0.315018\t\t 0.252941\n",
      "tag18                    \t\t 0.254083\t\t 0.303030\t\t 0.218750\n",
      "tag19                    \t\t 0.381625\t\t 0.473684\t\t 0.319527\n",
      "tag2                     \t\t 0.346316\t\t 0.237203\t\t 0.641326\n",
      "tag20                    \t\t 0.277895\t\t 0.273859\t\t 0.282051\n",
      "tag21                    \t\t 0.288210\t\t 0.318841\t\t 0.262948\n",
      "tag22                    \t\t 0.278027\t\t 0.270742\t\t 0.285714\n",
      "tag23                    \t\t 0.330020\t\t 0.400966\t\t 0.280405\n",
      "tag24                    \t\t 0.238095\t\t 0.341463\t\t 0.182768\n",
      "tag25                    \t\t 0.434426\t\t 0.530000\t\t 0.368056\n",
      "tag26                    \t\t 0.283305\t\t 0.383562\t\t 0.224599\n",
      "tag27                    \t\t 0.217659\t\t 0.251185\t\t 0.192029\n",
      "tag28                    \t\t 0.459519\t\t 0.603448\t\t 0.371025\n",
      "tag29                    \t\t 0.258475\t\t 0.403974\t\t 0.190031\n",
      "tag3                     \t\t 0.222463\t\t 0.133987\t\t 0.654952\n",
      "tag30                    \t\t 0.366265\t\t 0.510067\t\t 0.285714\n",
      "tag31                    \t\t 0.415385\t\t 0.547297\t\t 0.334711\n",
      "tag32                    \t\t 0.310924\t\t 0.471338\t\t 0.231975\n",
      "tag33                    \t\t 0.350000\t\t 0.553957\t\t 0.255814\n",
      "tag34                    \t\t 0.285057\t\t 0.455882\t\t 0.207358\n",
      "tag35                    \t\t 0.403756\t\t 0.632353\t\t 0.296552\n",
      "tag36                    \t\t 0.146479\t\t 0.201550\t\t 0.115044\n",
      "tag37                    \t\t 0.330789\t\t 0.528455\t\t 0.240741\n",
      "tag38                    \t\t 0.299020\t\t 0.549550\t\t 0.205387\n",
      "tag4                     \t\t 0.418196\t\t 0.310795\t\t 0.639024\n",
      "tag5                     \t\t 0.611558\t\t 0.565629\t\t 0.665605\n",
      "tag6                     \t\t 0.362613\t\t 0.292727\t\t 0.476331\n",
      "tag7                     \t\t 0.238683\t\t 0.206406\t\t 0.282927\n",
      "tag8                     \t\t 0.309917\t\t 0.227273\t\t 0.487013\n",
      "tag9                     \t\t 0.288056\t\t 0.263383\t\t 0.317829\n"
     ]
    }
   ],
   "source": [
    "log_clf = OneVsRestClassifier(LogisticRegression(random_state=42,\n",
    "                                                 max_iter=10000,\n",
    "                                                 verbose=0,\n",
    "                                                C=log_clf_best_param))\n",
    "model = Pipeline(steps=[(\"scaler\" , StandardScaler()),('estimator',log_clf)])\n",
    "model.fit(X_train, y_train)\n",
    "clfScore(model, X_val,y_val, labels,'W2V_logistic_reduced_without_empty')"
   ]
  },
  {
   "cell_type": "markdown",
   "id": "78f04dae-d148-4941-a75f-3adb608926d9",
   "metadata": {},
   "source": [
    "### SVC"
   ]
  },
  {
   "cell_type": "raw",
   "id": "2490a377-d156-4daf-b572-bf2fafba2476",
   "metadata": {},
   "source": [
    "SVC_clf = OneVsRestClassifier(SVC(random_state=42,\n",
    "                                                 max_iter=10000,\n",
    "                                                 verbose=0))\n",
    "\n",
    "model = Pipeline(steps=[(\"scaler\" , StandardScaler(with_mean=False)),('estimator',SVC_clf)])\n",
    "#raise Exception(\"trop long\") \n",
    "# hyperparameters\n",
    "param_grid = [{'estimator__estimator__C': [20]}] # lambda regularization\n",
    "\n",
    "\n",
    "# cross-validation\n",
    "clf = GridSearchCV(model,\n",
    "                   param_grid,\n",
    "                   scoring='f1_macro', #F1 = 2 * (precision * recall) / (precision + recall)\n",
    "                   n_jobs=-1,\n",
    "                   verbose=1,\n",
    "                   cv=5,\n",
    "                   return_train_score=True)\n",
    "clf.fit(X_train, y_train)\n",
    "SVC_clf_best_param = clf.best_params_['estimator__estimator__C']\n",
    "print('Meilleurs hyper-paramètres :')\n",
    "print(clf.best_params_)"
   ]
  },
  {
   "cell_type": "raw",
   "id": "11323ade-718b-42de-be2b-5009197bb3df",
   "metadata": {},
   "source": [
    "SVC_clf = OneVsRestClassifier(SVC(random_state=42,\n",
    "                                                 max_iter=10000,\n",
    "                                                 verbose=0,\n",
    "                                                C=SVC_clf_best_param))\n",
    "\n",
    "model = Pipeline(steps=[(\"scaler\" , StandardScaler(with_mean=False)),('estimator',SVC_clf)])\n",
    "model.fit(X_train, y_train)\n",
    "clfScore(model, X_val,y_val, labels,'W2V_SVC_reduced')"
   ]
  },
  {
   "cell_type": "markdown",
   "id": "54f7e2fe-f1df-47d8-8f40-460a59bf865b",
   "metadata": {},
   "source": [
    "## Random Forest"
   ]
  },
  {
   "cell_type": "code",
   "execution_count": 35,
   "id": "7f28422d-3169-4c23-9a2f-d899270787a8",
   "metadata": {},
   "outputs": [
    {
     "name": "stdout",
     "output_type": "stream",
     "text": [
      "Meilleurs hyper-paramètres :\n",
      "{'estimator__estimator__max_depth': 10, 'estimator__estimator__n_estimators': 10}\n"
     ]
    }
   ],
   "source": [
    "RF_clf = OneVsRestClassifier(RF(min_samples_split=5))\n",
    "model = Pipeline(steps=[(\"scaler\" , StandardScaler(with_mean=False)),('estimator',RF_clf)])\n",
    "#raise Exception(\"trop long\") \n",
    "# hyperparameters\n",
    "param_grid = [{'estimator__estimator__n_estimators': [10,20,30],'estimator__estimator__max_depth' : [5,8,10]}]\n",
    "\n",
    "# cross-validation\n",
    "clf = GridSearchCV(model,\n",
    "                   param_grid,\n",
    "                   scoring='f1_macro', #F1 = 2 * (precision * recall) / (precision + recall)\n",
    "                   n_jobs=-1,\n",
    "                   verbose=0,\n",
    "                   cv=5,\n",
    "                   return_train_score=True)\n",
    "clf.fit(X_train, y_train)\n",
    "RF_clf_best_param1 = clf.best_params_['estimator__estimator__n_estimators']\n",
    "RF_clf_best_param2 = clf.best_params_['estimator__estimator__max_depth']\n",
    "print('Meilleurs hyper-paramètres :')\n",
    "print(clf.best_params_)"
   ]
  },
  {
   "cell_type": "code",
   "execution_count": 36,
   "id": "38947dd1-a600-4fd9-a7c5-32088ddf8445",
   "metadata": {},
   "outputs": [
    {
     "name": "stdout",
     "output_type": "stream",
     "text": [
      "Tags                     \t\t F-score\t\t precision\t\t recall\n",
      "\n",
      "tag0                     \t\t 0.027491\t\t 0.014043\t\t 0.648649\n",
      "tag1                     \t\t 0.003521\t\t 0.001788\t\t 0.115385\n",
      "tag10                    \t\t 0.298326\t\t 0.245614\t\t 0.379845\n",
      "tag108                   \t\t 0.061962\t\t 0.034884\t\t 0.276923\n",
      "tag11                    \t\t 0.020202\t\t 0.011390\t\t 0.089286\n",
      "tag12                    \t\t 0.622222\t\t 0.469072\t\t 0.923858\n",
      "tag13                    \t\t 0.005236\t\t 0.002915\t\t 0.025641\n",
      "tag14                    \t\t 0.052326\t\t 0.031142\t\t 0.163636\n",
      "tag15                    \t\t 0.000000\t\t 0.000000\t\t 0.000000\n",
      "tag16                    \t\t 0.035503\t\t 0.020067\t\t 0.153846\n",
      "tag17                    \t\t 0.020202\t\t 0.010989\t\t 0.125000\n",
      "tag18                    \t\t 0.033445\t\t 0.021645\t\t 0.073529\n",
      "tag19                    \t\t 0.189542\t\t 0.127193\t\t 0.371795\n",
      "tag2                     \t\t 0.023927\t\t 0.012257\t\t 0.500000\n",
      "tag20                    \t\t 0.015385\t\t 0.008299\t\t 0.105263\n",
      "tag21                    \t\t 0.025641\t\t 0.014493\t\t 0.111111\n",
      "tag22                    \t\t 0.036496\t\t 0.021834\t\t 0.111111\n",
      "tag23                    \t\t 0.068966\t\t 0.043478\t\t 0.166667\n",
      "tag24                    \t\t 0.017021\t\t 0.009756\t\t 0.066667\n",
      "tag25                    \t\t 0.188679\t\t 0.125000\t\t 0.384615\n",
      "tag26                    \t\t 0.085627\t\t 0.063927\t\t 0.129630\n",
      "tag27                    \t\t 0.043956\t\t 0.028436\t\t 0.096774\n",
      "tag28                    \t\t 0.258333\t\t 0.178161\t\t 0.469697\n",
      "tag29                    \t\t 0.169742\t\t 0.152318\t\t 0.191667\n",
      "tag3                     \t\t 0.007697\t\t 0.003922\t\t 0.206897\n",
      "tag30                    \t\t 0.213333\t\t 0.161074\t\t 0.315789\n",
      "tag31                    \t\t 0.227723\t\t 0.155405\t\t 0.425926\n",
      "tag32                    \t\t 0.101382\t\t 0.070064\t\t 0.183333\n",
      "tag33                    \t\t 0.221154\t\t 0.165468\t\t 0.333333\n",
      "tag34                    \t\t 0.105263\t\t 0.073529\t\t 0.185185\n",
      "tag35                    \t\t 0.363636\t\t 0.308824\t\t 0.442105\n",
      "tag36                    \t\t 0.010929\t\t 0.007752\t\t 0.018519\n",
      "tag37                    \t\t 0.266667\t\t 0.195122\t\t 0.421053\n",
      "tag38                    \t\t 0.101124\t\t 0.081081\t\t 0.134328\n",
      "tag4                     \t\t 0.119530\t\t 0.066429\t\t 0.595745\n",
      "tag5                     \t\t 0.319913\t\t 0.198917\t\t 0.816667\n",
      "tag6                     \t\t 0.024561\t\t 0.012727\t\t 0.350000\n",
      "tag7                     \t\t 0.046875\t\t 0.026690\t\t 0.192308\n",
      "tag8                     \t\t 0.036161\t\t 0.019697\t\t 0.220339\n",
      "tag9                     \t\t 0.047359\t\t 0.027837\t\t 0.158537\n"
     ]
    }
   ],
   "source": [
    "RF_clf = OneVsRestClassifier(RF(n_estimators=RF_clf_best_param1,\n",
    "                                                  max_depth=RF_clf_best_param2,\n",
    "                                                   min_samples_split=5))\n",
    "model = Pipeline(steps=[(\"scaler\" , StandardScaler(with_mean=False)),('estimator',RF_clf)])\n",
    "model.fit(X_train, y_train)\n",
    "clfScore(model, X_val,y_val, labels,'W2V_RF_reduced_without_empty')"
   ]
  },
  {
   "cell_type": "code",
   "execution_count": 37,
   "id": "de4bf764-3b6b-405c-8331-1313d891db2e",
   "metadata": {},
   "outputs": [
    {
     "name": "stdout",
     "output_type": "stream",
     "text": [
      "Execution Time 4908.0404715538025 s\n"
     ]
    }
   ],
   "source": [
    "endTime = time.time()\n",
    "print(f\"Execution Time {endTime - startTime} s\")"
   ]
  },
  {
   "cell_type": "code",
   "execution_count": null,
   "id": "0278c119-48b9-4494-8e0f-631ef8d36def",
   "metadata": {},
   "outputs": [],
   "source": []
  }
 ],
 "metadata": {
  "kernelspec": {
   "display_name": "Python 3 (ipykernel)",
   "language": "python",
   "name": "python3"
  },
  "language_info": {
   "codemirror_mode": {
    "name": "ipython",
    "version": 3
   },
   "file_extension": ".py",
   "mimetype": "text/x-python",
   "name": "python",
   "nbconvert_exporter": "python",
   "pygments_lexer": "ipython3",
   "version": "3.10.8"
  }
 },
 "nbformat": 4,
 "nbformat_minor": 5
}
