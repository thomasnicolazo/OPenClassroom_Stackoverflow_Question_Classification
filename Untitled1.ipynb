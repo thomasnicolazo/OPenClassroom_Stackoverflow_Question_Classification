{
 "cells": [
  {
   "cell_type": "code",
   "execution_count": null,
   "id": "efaf8509-6ea5-4926-81c5-7b7fe9746ff4",
   "metadata": {},
   "outputs": [],
   "source": []
  },
  {
   "cell_type": "code",
   "execution_count": 1,
   "id": "c6bf9e39-fae1-47de-94a6-d40ceaefcfc0",
   "metadata": {},
   "outputs": [
    {
     "name": "stderr",
     "output_type": "stream",
     "text": [
      "[nltk_data] Downloading package stopwords to /home/thomas/nltk_data...\n",
      "[nltk_data]   Package stopwords is already up-to-date!\n"
     ]
    }
   ],
   "source": [
    "import os\n",
    "import time\n",
    "import re\n",
    "import numpy as np \n",
    "import matplotlib as mpl\n",
    "import matplotlib.pyplot as plt\n",
    "import seaborn as sns\n",
    "import pandas as pd\n",
    "import nltk\n",
    "import spacy\n",
    "import pickle\n",
    "nltk.download('stopwords')\n",
    "import unidecode\n",
    "import sklearn.metrics as met\n",
    "from sklearn.metrics import roc_curve, auc\n",
    "from sklearn.model_selection import train_test_split\n",
    "from sklearn.multiclass import OneVsRestClassifier\n",
    "from sklearn.pipeline import Pipeline\n",
    "from sklearn.model_selection import GridSearchCV\n",
    "from sklearn.preprocessing import MultiLabelBinarizer\n",
    "from sklearn.feature_extraction.text import CountVectorizer, TfidfVectorizer\n",
    "from sklearn.linear_model import LogisticRegression\n",
    "from sklearn.svm import SVC\n",
    "from sklearn.ensemble import RandomForestClassifier as RF"
   ]
  },
  {
   "cell_type": "code",
   "execution_count": 2,
   "id": "740cbe2a-a862-4f61-a32f-cb5aa768f950",
   "metadata": {},
   "outputs": [
    {
     "data": {
      "text/html": [
       "<style>.container { width:95% !important; }</style>"
      ],
      "text/plain": [
       "<IPython.core.display.HTML object>"
      ]
     },
     "metadata": {},
     "output_type": "display_data"
    }
   ],
   "source": [
    "from IPython.display import display,HTML\n",
    "display(HTML(\"<style>.container { width:95% !important; }</style>\"))\n",
    "pd.set_option(\"display.max_columns\", 100)\n",
    "pd.set_option(\"display.max_rows\", 200)\n",
    "pd.set_option(\"display.max_colwidth\",200)"
   ]
  },
  {
   "cell_type": "code",
   "execution_count": 3,
   "id": "4de8c652-bca1-4413-a794-a0431db7fefd",
   "metadata": {},
   "outputs": [
    {
     "data": {
      "application/javascript": [
       "IPython.OutputArea.auto_scroll_threshold = 9999;\n"
      ],
      "text/plain": [
       "<IPython.core.display.Javascript object>"
      ]
     },
     "metadata": {},
     "output_type": "display_data"
    }
   ],
   "source": [
    "%%javascript\n",
    "IPython.OutputArea.auto_scroll_threshold = 9999;"
   ]
  },
  {
   "cell_type": "markdown",
   "id": "950f8656-6181-494b-a55d-c7fab121959d",
   "metadata": {},
   "source": [
    "# Data"
   ]
  },
  {
   "cell_type": "code",
   "execution_count": 4,
   "id": "02944ba3-b32b-4fb4-bf72-8db2b5a15630",
   "metadata": {},
   "outputs": [],
   "source": [
    "path = '/home/thomas/Documents/openclassroom/projet5/'"
   ]
  },
  {
   "cell_type": "code",
   "execution_count": 5,
   "id": "ce0752c0-cce0-4ec0-9f57-399621479a26",
   "metadata": {},
   "outputs": [],
   "source": [
    "with open(path + 'cleanData.pickle','rb') as f:\n",
    "    data = pickle.load(f)"
   ]
  },
  {
   "cell_type": "code",
   "execution_count": 6,
   "id": "86b8609f-85e2-4010-a5f2-f4444634fc60",
   "metadata": {},
   "outputs": [
    {
     "data": {
      "text/plain": [
       "(48023, 18)"
      ]
     },
     "execution_count": 6,
     "metadata": {},
     "output_type": "execute_result"
    }
   ],
   "source": [
    "data.shape"
   ]
  },
  {
   "cell_type": "code",
   "execution_count": 7,
   "id": "3762404a-e790-4359-84c5-977db15f5756",
   "metadata": {},
   "outputs": [
    {
     "data": {
      "text/plain": [
       "Title               object\n",
       "Body                object\n",
       "Tags                object\n",
       "text                object\n",
       "nb_char              int64\n",
       "tokens              object\n",
       "tokens_title        object\n",
       "nb_tokens            int64\n",
       "tokens_unique       object\n",
       "nb_tokens_unique     int64\n",
       "tokens_WSW          object\n",
       "tokens_title_WSW    object\n",
       "nb_tokens_WSW        int64\n",
       "tokens_lemma        object\n",
       "len_tokens_lemma     int64\n",
       "Tags_list           object\n",
       "len _Tags_list       int64\n",
       "filtered_tags       object\n",
       "dtype: object"
      ]
     },
     "execution_count": 7,
     "metadata": {},
     "output_type": "execute_result"
    }
   ],
   "source": [
    "data.dtypes"
   ]
  },
  {
   "cell_type": "code",
   "execution_count": 8,
   "id": "0fc5eb01-46a5-4650-98c0-c77cecee0791",
   "metadata": {},
   "outputs": [
    {
     "data": {
      "text/html": [
       "<div>\n",
       "<style scoped>\n",
       "    .dataframe tbody tr th:only-of-type {\n",
       "        vertical-align: middle;\n",
       "    }\n",
       "\n",
       "    .dataframe tbody tr th {\n",
       "        vertical-align: top;\n",
       "    }\n",
       "\n",
       "    .dataframe thead th {\n",
       "        text-align: right;\n",
       "    }\n",
       "</style>\n",
       "<table border=\"1\" class=\"dataframe\">\n",
       "  <thead>\n",
       "    <tr style=\"text-align: right;\">\n",
       "      <th></th>\n",
       "      <th>Title</th>\n",
       "      <th>Body</th>\n",
       "      <th>Tags</th>\n",
       "      <th>text</th>\n",
       "      <th>nb_char</th>\n",
       "      <th>tokens</th>\n",
       "      <th>tokens_title</th>\n",
       "      <th>nb_tokens</th>\n",
       "      <th>tokens_unique</th>\n",
       "      <th>nb_tokens_unique</th>\n",
       "      <th>tokens_WSW</th>\n",
       "      <th>tokens_title_WSW</th>\n",
       "      <th>nb_tokens_WSW</th>\n",
       "      <th>tokens_lemma</th>\n",
       "      <th>len_tokens_lemma</th>\n",
       "      <th>Tags_list</th>\n",
       "      <th>len _Tags_list</th>\n",
       "      <th>filtered_tags</th>\n",
       "    </tr>\n",
       "  </thead>\n",
       "  <tbody>\n",
       "    <tr>\n",
       "      <th>0</th>\n",
       "      <td>django m2m form save \" through \" table</td>\n",
       "      <td>&lt;p&gt;I'm having trouble in saving a m2m data, containing a 'through' class table.\\nI want to save all selected members (selected in the form) in the through table.\\nBut i don't know how to initialis...</td>\n",
       "      <td>&lt;django&gt;&lt;forms&gt;&lt;m2m&gt;</td>\n",
       "      <td>i'm having trouble in saving a m2m data, containing a 'through' class table.\\ni want to save all selected members (selected in the form) in the through table.\\nbut i don't know how to initialise t...</td>\n",
       "      <td>1442</td>\n",
       "      <td>[i, m, having, trouble, in, saving, a, m2m, data, containing, a, through, class, table, i, want, to, save, all, selected, members, selected, in, the, form, in, the, through, table, but, i, don, t,...</td>\n",
       "      <td>[django, m2m, form, save, through, table]</td>\n",
       "      <td>188</td>\n",
       "      <td>(my, charfield, members, default, true, m, initialise, now, selected, don, a, saving, max, save, of, files, post, view, all, new, class, length, and, instance, manytomanyfield, how, foreignkey, to...</td>\n",
       "      <td>82</td>\n",
       "      <td>[trouble, saving, m2m, data, containing, class, table, want, save, selected, members, selected, form, table, know, initialise, table, view, code, class, classroom, models, model, user, models, for...</td>\n",
       "      <td>[django, m2m, form, save, table]</td>\n",
       "      <td>141</td>\n",
       "      <td>[trouble, save, m2, m, datum, contain, class, table, want, save, select, member, select, form, table, know, initialise, table, view, code, class, classroom, model, model, user, model, foreignkey, ...</td>\n",
       "      <td>142</td>\n",
       "      <td>[django, forms, m2m]</td>\n",
       "      <td>3</td>\n",
       "      <td>[django, forms]</td>\n",
       "    </tr>\n",
       "    <tr>\n",
       "      <th>1</th>\n",
       "      <td>transpose/unzip function (inverse of zip)?</td>\n",
       "      <td>&lt;p&gt;I have a list of 2-item tuples and I'd like to convert them to 2 lists where the first contains the first item in each tuple and the second list holds the second item.&lt;/p&gt;\\n\\n&lt;p&gt;&lt;strong&gt;For exa...</td>\n",
       "      <td>&lt;python&gt;&lt;list&gt;&lt;matrix&gt;&lt;transpose&gt;</td>\n",
       "      <td>i have a list of 2-item tuples and i'd like to convert them to 2 lists where the first contains the first item in each tuple and the second list holds the second item.\\nfor example:\\noriginal = [(...</td>\n",
       "      <td>350</td>\n",
       "      <td>[i, have, a, list, of, 2, item, tuples, and, i, d, like, to, convert, them, to, 2, lists, where, the, first, contains, the, first, item, in, each, tuple, and, the, second, list, holds, the, second...</td>\n",
       "      <td>[transpose, unzip, function, inverse, of, zip]</td>\n",
       "      <td>70</td>\n",
       "      <td>(second, contains, and, the, result, become, i, 1, where, does, tuples, to, each, want, first, convert, in, 3, #, there, them, a, lists, example, d, like, is, tuple, of, builtin, holds, that, b, c...</td>\n",
       "      <td>42</td>\n",
       "      <td>[list, item, tuples, like, convert, lists, first, contains, first, item, tuple, second, list, holds, second, item, example, original, b, c, #, want, become, result, b, c, builtin, function]</td>\n",
       "      <td>[transpose, unzip, function, inverse, zip]</td>\n",
       "      <td>28</td>\n",
       "      <td>[list, item, tuple, like, convert, list, first, contain, first, item, tuple, second, list, hold, second, item, example, original, b, c, #, want, become, result, b, c, builtin, function]</td>\n",
       "      <td>28</td>\n",
       "      <td>[list, python, matrix, transpose]</td>\n",
       "      <td>4</td>\n",
       "      <td>[list, python]</td>\n",
       "    </tr>\n",
       "    <tr>\n",
       "      <th>2</th>\n",
       "      <td>detecting audio silence in wav files using c#</td>\n",
       "      <td>&lt;p&gt;I'm tasked with building a .NET client app to detect silence in a WAV files.&lt;/p&gt;\\n\\n&lt;p&gt;Is this possible with the built-in Windows APIs? Or alternately, any good libraries out there to help with...</td>\n",
       "      <td>&lt;c#&gt;&lt;.net&gt;&lt;audio&gt;</td>\n",
       "      <td>i'm tasked with building a .net client app to detect silence in a wav files.\\nis this possible with the built-in windows apis? or alternately, any good libraries out there to help with this?\\n</td>\n",
       "      <td>190</td>\n",
       "      <td>[i, m, tasked, with, building, a, net, client, app, to, detect, silence, in, a, wav, files, is, this, possible, with, the, built, in, windows, apis, or, alternately, any, good, libraries, out, the...</td>\n",
       "      <td>[detecting, audio, silence, in, wav, files, using, c#]</td>\n",
       "      <td>36</td>\n",
       "      <td>(the, silence, i, tasked, net, client, built, apis, out, with, to, libraries, m, any, good, in, this, building, there, a, detect, wav, help, app, windows, is, files, or, possible, alternately)</td>\n",
       "      <td>30</td>\n",
       "      <td>[tasked, building, net, client, app, detect, silence, wav, files, possible, built, windows, apis, alternately, good, libraries, help]</td>\n",
       "      <td>[detecting, audio, silence, wav, files, using, c#]</td>\n",
       "      <td>17</td>\n",
       "      <td>[task, build, net, client, app, detect, silence, wav, file, possible, build, window, apis, alternately, good, library, help]</td>\n",
       "      <td>17</td>\n",
       "      <td>[audio, c#, .net]</td>\n",
       "      <td>3</td>\n",
       "      <td>[c#, .net]</td>\n",
       "    </tr>\n",
       "    <tr>\n",
       "      <th>3</th>\n",
       "      <td>how to request a random row in sql?</td>\n",
       "      <td>&lt;p&gt;How can I request a random row (or as close to truly random as is possible) in pure SQL?&lt;/p&gt;\\n</td>\n",
       "      <td>&lt;sql&gt;&lt;random&gt;</td>\n",
       "      <td>how can i request a random row (or as close to truly random as is possible) in pure sql?\\n</td>\n",
       "      <td>89</td>\n",
       "      <td>[how, can, i, request, a, random, row, or, as, close, to, truly, random, as, is, possible, in, pure, sql]</td>\n",
       "      <td>[how, to, request, a, random, row, in, sql]</td>\n",
       "      <td>19</td>\n",
       "      <td>(a, row, close, to, as, sql, pure, or, random, truly, can, i, is, possible, in, request, how)</td>\n",
       "      <td>17</td>\n",
       "      <td>[request, random, row, close, truly, random, possible, pure, sql]</td>\n",
       "      <td>[request, random, row, sql]</td>\n",
       "      <td>9</td>\n",
       "      <td>[request, random, row, close, truly, random, possible, pure, sql]</td>\n",
       "      <td>9</td>\n",
       "      <td>[random, sql]</td>\n",
       "      <td>2</td>\n",
       "      <td>[sql]</td>\n",
       "    </tr>\n",
       "    <tr>\n",
       "      <th>4</th>\n",
       "      <td>mod_rewrite rule to redirect all requests except for one specific path</td>\n",
       "      <td>&lt;p&gt;I'm trying to redirect all requests to my domain to another domain using mod_rewrite in an Apache 2.2 VirtualHost declaration. There is one exception to this -- I'd like all requests  to the &lt;c...</td>\n",
       "      <td>&lt;apache&gt;&lt;mod-rewrite&gt;</td>\n",
       "      <td>i'm trying to redirect all requests to my domain to another domain using mod_rewrite in an apache 2.2 virtualhost declaration. there is one exception to this -- i'd like all requests  to the /audi...</td>\n",
       "      <td>1990</td>\n",
       "      <td>[i, m, trying, to, redirect, all, requests, to, my, domain, to, another, domain, using, mod, rewrite, in, an, apache, 2, 2, virtualhost, declaration, there, is, one, exception, to, this, i, d, lik...</td>\n",
       "      <td>[mod, rewrite, rule, to, redirect, all, requests, except, for, one, specific, path]</td>\n",
       "      <td>314</td>\n",
       "      <td>(mp3, contains, downside, doesn, my, forward, engine, sense, out, without, m, change, perfect, 301, redirected, a, requests, 80, l, ve, example, d, of, that, will, audio, since, start, apache, mer...</td>\n",
       "      <td>148</td>\n",
       "      <td>[trying, redirect, requests, domain, another, domain, using, mod, rewrite, apache, virtualhost, declaration, one, exception, like, requests, audio, path, redirected, written, rewritecond, rewriter...</td>\n",
       "      <td>[mod, rewrite, rule, redirect, requests, except, one, specific, path]</td>\n",
       "      <td>191</td>\n",
       "      <td>[try, redirect, request, domain, another, domain, use, mod, rewrite, apache, virtualhost, declaration, one, exception, like, request, audio, path, redirect, write, rewritecond, rewriterule, quite,...</td>\n",
       "      <td>191</td>\n",
       "      <td>[mod-rewrite, apache]</td>\n",
       "      <td>2</td>\n",
       "      <td>[apache]</td>\n",
       "    </tr>\n",
       "  </tbody>\n",
       "</table>\n",
       "</div>"
      ],
      "text/plain": [
       "                                                                    Title  \\\n",
       "0                                  django m2m form save \" through \" table   \n",
       "1                              transpose/unzip function (inverse of zip)?   \n",
       "2                           detecting audio silence in wav files using c#   \n",
       "3                                     how to request a random row in sql?   \n",
       "4  mod_rewrite rule to redirect all requests except for one specific path   \n",
       "\n",
       "                                                                                                                                                                                                      Body  \\\n",
       "0  <p>I'm having trouble in saving a m2m data, containing a 'through' class table.\\nI want to save all selected members (selected in the form) in the through table.\\nBut i don't know how to initialis...   \n",
       "1  <p>I have a list of 2-item tuples and I'd like to convert them to 2 lists where the first contains the first item in each tuple and the second list holds the second item.</p>\\n\\n<p><strong>For exa...   \n",
       "2  <p>I'm tasked with building a .NET client app to detect silence in a WAV files.</p>\\n\\n<p>Is this possible with the built-in Windows APIs? Or alternately, any good libraries out there to help with...   \n",
       "3                                                                                                        <p>How can I request a random row (or as close to truly random as is possible) in pure SQL?</p>\\n   \n",
       "4  <p>I'm trying to redirect all requests to my domain to another domain using mod_rewrite in an Apache 2.2 VirtualHost declaration. There is one exception to this -- I'd like all requests  to the <c...   \n",
       "\n",
       "                                Tags  \\\n",
       "0               <django><forms><m2m>   \n",
       "1  <python><list><matrix><transpose>   \n",
       "2                  <c#><.net><audio>   \n",
       "3                      <sql><random>   \n",
       "4              <apache><mod-rewrite>   \n",
       "\n",
       "                                                                                                                                                                                                      text  \\\n",
       "0  i'm having trouble in saving a m2m data, containing a 'through' class table.\\ni want to save all selected members (selected in the form) in the through table.\\nbut i don't know how to initialise t...   \n",
       "1  i have a list of 2-item tuples and i'd like to convert them to 2 lists where the first contains the first item in each tuple and the second list holds the second item.\\nfor example:\\noriginal = [(...   \n",
       "2         i'm tasked with building a .net client app to detect silence in a wav files.\\nis this possible with the built-in windows apis? or alternately, any good libraries out there to help with this?\\n   \n",
       "3                                                                                                               how can i request a random row (or as close to truly random as is possible) in pure sql?\\n   \n",
       "4  i'm trying to redirect all requests to my domain to another domain using mod_rewrite in an apache 2.2 virtualhost declaration. there is one exception to this -- i'd like all requests  to the /audi...   \n",
       "\n",
       "   nb_char  \\\n",
       "0     1442   \n",
       "1      350   \n",
       "2      190   \n",
       "3       89   \n",
       "4     1990   \n",
       "\n",
       "                                                                                                                                                                                                    tokens  \\\n",
       "0  [i, m, having, trouble, in, saving, a, m2m, data, containing, a, through, class, table, i, want, to, save, all, selected, members, selected, in, the, form, in, the, through, table, but, i, don, t,...   \n",
       "1  [i, have, a, list, of, 2, item, tuples, and, i, d, like, to, convert, them, to, 2, lists, where, the, first, contains, the, first, item, in, each, tuple, and, the, second, list, holds, the, second...   \n",
       "2  [i, m, tasked, with, building, a, net, client, app, to, detect, silence, in, a, wav, files, is, this, possible, with, the, built, in, windows, apis, or, alternately, any, good, libraries, out, the...   \n",
       "3                                                                                                [how, can, i, request, a, random, row, or, as, close, to, truly, random, as, is, possible, in, pure, sql]   \n",
       "4  [i, m, trying, to, redirect, all, requests, to, my, domain, to, another, domain, using, mod, rewrite, in, an, apache, 2, 2, virtualhost, declaration, there, is, one, exception, to, this, i, d, lik...   \n",
       "\n",
       "                                                                          tokens_title  \\\n",
       "0                                            [django, m2m, form, save, through, table]   \n",
       "1                                       [transpose, unzip, function, inverse, of, zip]   \n",
       "2                               [detecting, audio, silence, in, wav, files, using, c#]   \n",
       "3                                          [how, to, request, a, random, row, in, sql]   \n",
       "4  [mod, rewrite, rule, to, redirect, all, requests, except, for, one, specific, path]   \n",
       "\n",
       "   nb_tokens  \\\n",
       "0        188   \n",
       "1         70   \n",
       "2         36   \n",
       "3         19   \n",
       "4        314   \n",
       "\n",
       "                                                                                                                                                                                             tokens_unique  \\\n",
       "0  (my, charfield, members, default, true, m, initialise, now, selected, don, a, saving, max, save, of, files, post, view, all, new, class, length, and, instance, manytomanyfield, how, foreignkey, to...   \n",
       "1  (second, contains, and, the, result, become, i, 1, where, does, tuples, to, each, want, first, convert, in, 3, #, there, them, a, lists, example, d, like, is, tuple, of, builtin, holds, that, b, c...   \n",
       "2         (the, silence, i, tasked, net, client, built, apis, out, with, to, libraries, m, any, good, in, this, building, there, a, detect, wav, help, app, windows, is, files, or, possible, alternately)   \n",
       "3                                                                                                            (a, row, close, to, as, sql, pure, or, random, truly, can, i, is, possible, in, request, how)   \n",
       "4  (mp3, contains, downside, doesn, my, forward, engine, sense, out, without, m, change, perfect, 301, redirected, a, requests, 80, l, ve, example, d, of, that, will, audio, since, start, apache, mer...   \n",
       "\n",
       "   nb_tokens_unique  \\\n",
       "0                82   \n",
       "1                42   \n",
       "2                30   \n",
       "3                17   \n",
       "4               148   \n",
       "\n",
       "                                                                                                                                                                                                tokens_WSW  \\\n",
       "0  [trouble, saving, m2m, data, containing, class, table, want, save, selected, members, selected, form, table, know, initialise, table, view, code, class, classroom, models, model, user, models, for...   \n",
       "1            [list, item, tuples, like, convert, lists, first, contains, first, item, tuple, second, list, holds, second, item, example, original, b, c, #, want, become, result, b, c, builtin, function]   \n",
       "2                                                                    [tasked, building, net, client, app, detect, silence, wav, files, possible, built, windows, apis, alternately, good, libraries, help]   \n",
       "3                                                                                                                                        [request, random, row, close, truly, random, possible, pure, sql]   \n",
       "4  [trying, redirect, requests, domain, another, domain, using, mod, rewrite, apache, virtualhost, declaration, one, exception, like, requests, audio, path, redirected, written, rewritecond, rewriter...   \n",
       "\n",
       "                                                        tokens_title_WSW  \\\n",
       "0                                       [django, m2m, form, save, table]   \n",
       "1                             [transpose, unzip, function, inverse, zip]   \n",
       "2                     [detecting, audio, silence, wav, files, using, c#]   \n",
       "3                                            [request, random, row, sql]   \n",
       "4  [mod, rewrite, rule, redirect, requests, except, one, specific, path]   \n",
       "\n",
       "   nb_tokens_WSW  \\\n",
       "0            141   \n",
       "1             28   \n",
       "2             17   \n",
       "3              9   \n",
       "4            191   \n",
       "\n",
       "                                                                                                                                                                                              tokens_lemma  \\\n",
       "0  [trouble, save, m2, m, datum, contain, class, table, want, save, select, member, select, form, table, know, initialise, table, view, code, class, classroom, model, model, user, model, foreignkey, ...   \n",
       "1                [list, item, tuple, like, convert, list, first, contain, first, item, tuple, second, list, hold, second, item, example, original, b, c, #, want, become, result, b, c, builtin, function]   \n",
       "2                                                                             [task, build, net, client, app, detect, silence, wav, file, possible, build, window, apis, alternately, good, library, help]   \n",
       "3                                                                                                                                        [request, random, row, close, truly, random, possible, pure, sql]   \n",
       "4  [try, redirect, request, domain, another, domain, use, mod, rewrite, apache, virtualhost, declaration, one, exception, like, request, audio, path, redirect, write, rewritecond, rewriterule, quite,...   \n",
       "\n",
       "   len_tokens_lemma                          Tags_list  len _Tags_list  \\\n",
       "0               142               [django, forms, m2m]               3   \n",
       "1                28  [list, python, matrix, transpose]               4   \n",
       "2                17                  [audio, c#, .net]               3   \n",
       "3                 9                      [random, sql]               2   \n",
       "4               191              [mod-rewrite, apache]               2   \n",
       "\n",
       "     filtered_tags  \n",
       "0  [django, forms]  \n",
       "1   [list, python]  \n",
       "2       [c#, .net]  \n",
       "3            [sql]  \n",
       "4         [apache]  "
      ]
     },
     "execution_count": 8,
     "metadata": {},
     "output_type": "execute_result"
    }
   ],
   "source": [
    "data.head()"
   ]
  },
  {
   "cell_type": "code",
   "execution_count": 9,
   "id": "5d4f6d3a-1e74-4793-88aa-478e84cede97",
   "metadata": {},
   "outputs": [
    {
     "data": {
      "text/plain": [
       "Title               object\n",
       "Body                object\n",
       "Tags                object\n",
       "text                object\n",
       "nb_char              int64\n",
       "tokens              object\n",
       "tokens_title        object\n",
       "nb_tokens            int64\n",
       "tokens_unique       object\n",
       "nb_tokens_unique     int64\n",
       "tokens_WSW          object\n",
       "tokens_title_WSW    object\n",
       "nb_tokens_WSW        int64\n",
       "tokens_lemma        object\n",
       "len_tokens_lemma     int64\n",
       "Tags_list           object\n",
       "len _Tags_list       int64\n",
       "filtered_tags       object\n",
       "dtype: object"
      ]
     },
     "execution_count": 9,
     "metadata": {},
     "output_type": "execute_result"
    }
   ],
   "source": [
    "data.dtypes"
   ]
  },
  {
   "cell_type": "markdown",
   "id": "6afcd239-65b7-4224-a817-ee541d9cda74",
   "metadata": {},
   "source": [
    "## prepare data"
   ]
  },
  {
   "cell_type": "markdown",
   "id": "a9a308d1-c148-4244-8705-373972de5dfe",
   "metadata": {},
   "source": [
    "list all empty filtered_tags"
   ]
  },
  {
   "cell_type": "code",
   "execution_count": 10,
   "id": "529cf638-b3de-4baf-8250-68d334648b0a",
   "metadata": {},
   "outputs": [
    {
     "data": {
      "text/plain": [
       "7        []\n",
       "16       []\n",
       "37       []\n",
       "47       []\n",
       "58       []\n",
       "         ..\n",
       "49944    []\n",
       "49951    []\n",
       "49952    []\n",
       "49963    []\n",
       "49969    []\n",
       "Name: filtered_tags, Length: 4669, dtype: object"
      ]
     },
     "execution_count": 10,
     "metadata": {},
     "output_type": "execute_result"
    }
   ],
   "source": [
    "data['filtered_tags'][data['filtered_tags'].str.len() == 0]"
   ]
  },
  {
   "cell_type": "code",
   "execution_count": 16,
   "id": "5ca104c2-e0b6-4c6d-b2e9-ab2d3640e034",
   "metadata": {},
   "outputs": [
    {
     "data": {
      "text/plain": [
       "0                       [django, forms]\n",
       "1                        [list, python]\n",
       "2                            [c#, .net]\n",
       "3                                 [sql]\n",
       "4                              [apache]\n",
       "                      ...              \n",
       "49995    [android-studio, android, git]\n",
       "49996                              [c#]\n",
       "49997                              [c#]\n",
       "49998                   [numpy, python]\n",
       "49999                         [android]\n",
       "Name: filtered_tags, Length: 48023, dtype: object"
      ]
     },
     "execution_count": 16,
     "metadata": {},
     "output_type": "execute_result"
    }
   ],
   "source": [
    "data['filtered_tags'].apply(lambda x : ['#empty'] if len(''.join(x)) == 0 else x)"
   ]
  },
  {
   "cell_type": "code",
   "execution_count": 17,
   "id": "afaf1573-ddb5-4cf8-bbe8-8136c12e5c42",
   "metadata": {},
   "outputs": [
    {
     "data": {
      "text/plain": [
       "7        []\n",
       "16       []\n",
       "37       []\n",
       "47       []\n",
       "58       []\n",
       "         ..\n",
       "49944    []\n",
       "49951    []\n",
       "49952    []\n",
       "49963    []\n",
       "49969    []\n",
       "Name: filtered_tags, Length: 4669, dtype: object"
      ]
     },
     "execution_count": 17,
     "metadata": {},
     "output_type": "execute_result"
    }
   ],
   "source": [
    "data['filtered_tags'][data['filtered_tags'].str.len() == 0]"
   ]
  }
 ],
 "metadata": {
  "kernelspec": {
   "display_name": "Python 3 (ipykernel)",
   "language": "python",
   "name": "python3"
  },
  "language_info": {
   "codemirror_mode": {
    "name": "ipython",
    "version": 3
   },
   "file_extension": ".py",
   "mimetype": "text/x-python",
   "name": "python",
   "nbconvert_exporter": "python",
   "pygments_lexer": "ipython3",
   "version": "3.10.8"
  }
 },
 "nbformat": 4,
 "nbformat_minor": 5
}
